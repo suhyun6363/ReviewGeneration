{
  "nbformat": 4,
  "nbformat_minor": 0,
  "metadata": {
    "colab": {
      "provenance": [],
      "collapsed_sections": [
        "i20IGqGY-KiV",
        "FlvskwESgwMJ",
        "eaewvinhmke4",
        "jGgi3p_anFl0",
        "_DiOeLY5nmMO",
        "dD_QpWIZo5Om",
        "C15DZVC2uTQo",
        "Nnm-gi5W_6Wi",
        "5xg0CAS_ydRc",
        "I_VDKSXE7C2h",
        "hrMmWC9OJ3xW",
        "055TkQTJdo1k",
        "BPIomwNYgWaK",
        "fPOHXVguai5o"
      ],
      "mount_file_id": "1t0GsmOITEsgHMKQvuwdaD5uumNXVhWfM",
      "authorship_tag": "ABX9TyNilH9zbdw7NfOA8/y4MqNy",
      "include_colab_link": true
    },
    "kernelspec": {
      "name": "python3",
      "display_name": "Python 3"
    },
    "language_info": {
      "name": "python"
    }
  },
  "cells": [
    {
      "cell_type": "markdown",
      "metadata": {
        "id": "view-in-github",
        "colab_type": "text"
      },
      "source": [
        "<a href=\"https://colab.research.google.com/github/suhyun6363/ReviewGeneration/blob/main/%EC%9A%94%EA%B8%B0%EC%9A%94_%EB%A6%AC%EB%B7%B0%EB%A5%BC_%ED%99%9C%EC%9A%A9%ED%95%9C_%EB%A6%AC%EB%B7%B0%EC%83%9D%EC%84%B1%EB%AA%A8%EB%8D%B8.ipynb\" target=\"_parent\"><img src=\"https://colab.research.google.com/assets/colab-badge.svg\" alt=\"Open In Colab\"/></a>"
      ]
    },
    {
      "cell_type": "markdown",
      "source": [
        "2024.01.01~2024.06.15 동안 `'치킨', '피자/양식', '중국집', '한식', '일식/돈까스', '야식', '분식'`\n",
        "\n",
        "음식 카테고리별로 `덕성여자대학교 주변 리뷰 많은 순으로 상위 5개` 가게에 작성된 리뷰 데이터를 모아 `kogpt-2 모델`을 파인튜닝 학습한 리뷰 생성 딥러닝 모델\n",
        "\n",
        "------------------------------------\n",
        "\n",
        "## Data   \n",
        "1. 환경 설정   \n",
        "  1.1 크롬 및 크롬 드라이버 설치 - `120.0.6099.71` 버전으로 다운그레이드/설치   \n",
        "  1.2 `Selenium` 설치 - 동적 크롤링 도구   \n",
        "  1.3 리뷰 데이터 크롤링 URL: [요기요](https://www.yogiyo.co.kr/mobile/#/)\n",
        "2. 데이터 수집 과정   \n",
        "  2.1 요기요 웹사이트 접속 및 `덕성여자대학교` 주소 입력   \n",
        "  2.2 `7종류` 음식 카테고리 선택 및 `리뷰 많은 순` 정렬    \n",
        "  2.3 음식점 리뷰 데이터 크롤링   \n",
        "  + 각 카테고리에서 `상위 5개`의 음식점을 선택하고 해당 음식점 페이지 > 리뷰로 이동    \n",
        "  + 목표 날짜(`2024년 1월 1일`)까지 리뷰를 로드\n",
        "  + 각 리뷰에서 `맛/양/배달 평점`, `주문 아이템`, `리뷰 텍스트`를 추출   \n",
        "  2.4 csv 파일로 데이터 저장\n",
        "3. 데이터 수집 결과   \n",
        "전처리 전: (17460, 7)   \n",
        "전처리 후:   \n",
        "\n",
        "| menu_category        | # of Sentence |\n",
        "| ------------ | -------------: |\n",
        "|치킨   |       1260   |\n",
        "| 피자/양식 |          1470 |\n",
        "|중국집 | 2200 |\n",
        "|한식 | 480 |\n",
        "| 일식/돈까스 | 990 |\n",
        "| 야식 | 440 |\n",
        "| 분식 | 1160 |\n",
        "|  | 8000|\n",
        "\n",
        "+ 한 가게가 여러 메뉴 카테고리에 속해 있어 메뉴 카테고리마다 중복되는 상호명 제거\n",
        "+ 특수문자, 이모지, 영어 표현, 숫자 제거\n",
        "+ 현실감 있는 리뷰 텍스트를 위해 오타, 띄어쓰기는 그대로 두어 형태소 분석, 불용어 제거 처리하지 않음   \n",
        "\n",
        "## Pretrained model/Tokenizer\n",
        "`skt/kogpt2` 모델과 토크나이저 이용   \n",
        "1. Model\n",
        "\n",
        "| Model       |  # of params |   Type   | # of layers  | # of heads | ffn_dim | hidden_dims |\n",
        "|--------------|:----:|:-------:|--------:|--------:|--------:|--------------:|\n",
        "| `kogpt2-base-v2` |  125M  |  Decoder |   12     | 12      | 3072    | 768 |   \n",
        "\n",
        "2. Tokenizer   \n",
        "[`tokenizers`](https://github.com/huggingface/tokenizers) 패키지의 `Character BPE tokenizer`로 학습됨\n",
        "\n",
        "사전 크기는 51,200 이며 대화에 자주 쓰이는 아래와 같은 이모티콘, 이모지 등을 추가하여 해당 토큰의 인식 능력을 올림\n",
        "> 😀, 😁, 😆, 😅, 🤣, .. , `:-)`, `:)`, `-)`, `(-:`...\n",
        "\n",
        "```python\n",
        "> from transformers import PreTrainedTokenizerFast\n",
        "> tokenizer = PreTrainedTokenizerFast.from_pretrained(\"skt/kogpt2-base-v2\",\n",
        "  bos_token='</s>', eos_token='</s>', unk_token='<unk>',\n",
        "  pad_token='<pad>', mask_token='<mask>')\n",
        "> tokenizer.tokenize(\"안녕하세요. 한국어 GPT-2 입니다.😤:)l^o\")\n",
        "['▁안녕', '하', '세', '요.', '▁한국어', '▁G', 'P', 'T', '-2', '▁입', '니다.', '😤', ':)', 'l^o']\n",
        "```\n",
        "\n",
        "### 내부 동작 원리 (알고리즘)\n",
        "```\n",
        "Class CustomDataset(Dataset):\n",
        "#  PyTorch의 Dataset 클래스를 상속받아 사용자 정의 데이터셋을 구현\n",
        "텍스트 데이터를 받아 토큰화하고, 모델 학습에 적합한 입력 데이터로 변환하는 역할\n",
        "__init__: 데이터셋을 초기화\n",
        "__len__: 데이터셋의 크기를 반환\n",
        "__getitem__: 주어진 인덱스에 해당하는 데이터를 토큰화하여 반환\n",
        "```\n",
        "+ 토크나이저 및 모델 로드: 지정된 경로에서 토크나이저와 모델을 불러옴\n",
        "+ 패딩 토큰 설정: 필요한 경우 패딩 토큰을 설정\n",
        "+ 데이터 로더 설정: 데이터셋과 데이터 로더를 생성\n",
        "+ 최적화 및 스케줄러 설정: 옵티마이저와 학습 스케줄러를 설정\n",
        "+ 디바이스 설정 및 모델 학습 모드로 전환: 모델을 적절한 디바이스에 할당하고 학습 모드로 전환\n",
        "+ 학습 루프: 각 에폭에 대해 손실을 계산하고 모델 파라미터를 업데이트\n",
        "+ 모델 및 토크나이저 저장: 학습이 완료된 후 모델과 토크나이저를 저장\n",
        "\n",
        "**주요 하이퍼파라미터**\n",
        "1. batch_size: 32\n",
        "2. epochs: 5\n",
        "3. learning_rate: 5e-5\n",
        "4. max_length:50 (CustomDataset 클래스에서 설정)\n",
        "5. num_workers: 2\n",
        "6. early_stopping_patience:3 (EarlyStoppingCallback에서 설정 가능)\n",
        "\n",
        "**trian_loss: 0.531**\n",
        "\n",
        "### 활용 용도\n",
        "메뉴 리뷰를 자동으로 생성하여 마케팅 자료로 활용할 수 있다. 나아가, 데이터를 배달 음식 리뷰가 아닌 제품, 서비스 리뷰 데이터를 추가하여 학습하면 추후 출시될 신제품, 서비스의 마케팅 자료로 활용하기에 좋다.\n",
        "\n",
        "+ 적용 사례\n",
        "  - [네이버 커머스 솔루션마켓 CLOVA 메시지마케팅](https://solution.smartstore.naver.com/ko/solution/2NDiArqyVW4mYsqcXUoXYJ/detail) : 스토어 정보, 쿠폰, 판매 상품, 메시지 소재 등 다양한 정보를 활용하여 HyperCLOVA가 3종의 마케팅 메시지(제목, 내용)를 자동으로 생성\n",
        "  - [현대백화점의 루이스(Lewis)](https://n.news.naver.com/mnews/article/025/0003262163?sid=101) : 판촉행사 소개문 작성 등 마케팅 문구제작에 특화된 현대백화점의 사내 카피라이팅 시스템'\n",
        "  - [뤼튼](https://wrtn.ai/): 간단한 키워드만으로 완성도 높은 광고카피, 제품 소개 문구를 작성할 수 있는 AI 카피라이팅 서비스\n",
        "  - [킵그로우](https://app.keepgrow.com/admin/products/category/65) : 네이버 스마트스토어 기반으로 고객사의 인스타그램 계정에 게시물을 주기적으로 포스팅 해주는 '인스타그램 Ai 피드 포스팅' 기능\n",
        "\n",
        "[참고자료] [네이버 클라우드 플랫폼 블로글](https://blog.naver.com/n_cloudplatform/222913297671)"
      ],
      "metadata": {
        "id": "GsKzk1uShXuc"
      }
    },
    {
      "cell_type": "markdown",
      "source": [
        "## 1. 데이터 크롤링"
      ],
      "metadata": {
        "id": "i20IGqGY-KiV"
      }
    },
    {
      "cell_type": "code",
      "source": [
        "from selenium import webdriver\n",
        "from selenium.webdriver.common.by import By\n",
        "from selenium.webdriver.support.ui import WebDriverWait\n",
        "from selenium.webdriver.support import expected_conditions as EC\n",
        "from selenium.webdriver.chrome.service import Service  # 추가된 import\n",
        "from selenium.webdriver.chrome.options import Options\n",
        "from datetime import datetime, timedelta\n",
        "from selenium.common.exceptions import StaleElementReferenceException, ElementNotInteractableException\n",
        "import os\n",
        "import json\n",
        "import re\n",
        "import pandas as pd\n",
        "import time\n",
        "from selenium.common.exceptions import TimeoutException\n",
        "\n",
        "WAIT_TIME = 1\n",
        "\n",
        "url = 'https://www.yogiyo.co.kr/mobile/#/'\n",
        "results = []\n",
        "\n",
        "# 리뷰 날짜 형식 처리 함수\n",
        "def parse_review_date(date_text):\n",
        "    now = datetime.now()\n",
        "    if '시간 전' in date_text:\n",
        "        hours = int(date_text.split('시간 전')[0])\n",
        "        return now - timedelta(hours=hours)\n",
        "    elif '어제' in date_text:\n",
        "        return now - timedelta(days=1)\n",
        "    elif '일주일 전' in date_text:\n",
        "        return now - timedelta(weeks=1)\n",
        "    elif '일 전' in date_text:\n",
        "        days = int(date_text.split('일 전')[0])\n",
        "        return now - timedelta(days=days)\n",
        "    else:\n",
        "        return datetime.strptime(date_text, \"%Y년 %m월 %d일\")\n",
        "\n",
        "# 더보기 버튼이 나타날 때까지 기다리는 함수\n",
        "def wait_for_more_button():\n",
        "    try:\n",
        "        btn_more = wait.until(EC.presence_of_element_located((By.XPATH, \"//li[@class='list-group-item btn-more']/a\")))\n",
        "        return btn_more\n",
        "    except:\n",
        "        return None\n",
        "\n",
        "\n",
        "# 맛, 양, 배달 정보 추출 함수\n",
        "def extract_review_info(review):\n",
        "    # #review > li:nth-child(2) > div:nth-child(2) > div > span.category > span:nth-child(3)#review > li:nth-child(2) > div:nth-child(2) > div > span.category > span:nth-child(3)\n",
        "    try:\n",
        "        star_category = review.find_elements(By.CSS_SELECTOR, \"span.category > span\")\n",
        "        try:\n",
        "            taste = star_category[2].text\n",
        "            if taste == '':\n",
        "                taste = \"N/A\"\n",
        "        except IndexError:\n",
        "            taste = \"N/A\"\n",
        "\n",
        "        try:\n",
        "            quantity = star_category[5].text\n",
        "            if quantity == '':\n",
        "                quantity = \"N/A\"\n",
        "        except IndexError:\n",
        "            quantity = \"N/A\"\n",
        "\n",
        "        try:\n",
        "            delivery = star_category[8].text\n",
        "            if delivery == '':\n",
        "                delivery = \"N/A\"\n",
        "        except IndexError:\n",
        "            delivery = \"N/A\"\n",
        "\n",
        "        # 주문 아이템 텍스트 추출\n",
        "        try:\n",
        "            order_items = review.find_element(By.CSS_SELECTOR, \"div.order-items\").text\n",
        "            if order_items == '':\n",
        "                order_items = \"N/A\"\n",
        "        except Exception as e:\n",
        "            order_items = \"N/A\"\n",
        "\n",
        "        try:\n",
        "            review_text = review.find_element(By.CSS_SELECTOR, \"p\").text\n",
        "            if review_text == '':\n",
        "                review_text = \"N/A\"\n",
        "        except Exception as e:\n",
        "            order_items = \"N/A\"\n",
        "        print(taste, quantity, delivery, order_items, review_text)\n",
        "        return taste, quantity, delivery, order_items, review_text\n",
        "\n",
        "    except Exception as e:\n",
        "        print(f\"Error extracting review info: {e}\")\n",
        "\n",
        "# 목표 날짜까지 리뷰 로드 함수\n",
        "def load_reviews_until_target_date(target_date):\n",
        "    continue_loading = True\n",
        "    while continue_loading:\n",
        "        reviews = driver.find_elements(By.XPATH, \"//li[@class='list-group-item star-point ng-scope']\")\n",
        "        for review in reviews:\n",
        "            try:\n",
        "                review_time = review.find_element(By.CSS_SELECTOR, \"span.review-time\").text\n",
        "                review_date = parse_review_date(review_time)\n",
        "                # print(review_time, review_date)  # 리뷰 시간을 출력\n",
        "\n",
        "                # 리뷰 시간이 목표 날짜 이후인지 확인\n",
        "                if review_date < target_date:\n",
        "                    continue_loading = False\n",
        "                    break\n",
        "            except StaleElementReferenceException:\n",
        "                continue  # 요소가 유효하지 않다면 다시 시도\n",
        "\n",
        "        if continue_loading:\n",
        "            # 더보기 버튼 클릭\n",
        "            btn_more = wait_for_more_button()\n",
        "            if btn_more:\n",
        "                try:\n",
        "                    driver.execute_script(\"arguments[0].scrollIntoView(true);\", btn_more)\n",
        "                    time.sleep(1)  # 추가 대기 시간\n",
        "                    btn_more.click()\n",
        "                    time.sleep(2)  # 추가 대기 시간\n",
        "                except StaleElementReferenceException:\n",
        "                    continue  # 요소가 유효하지 않다면 다시 시도\n",
        "            else:\n",
        "                break\n",
        "\n",
        "\n",
        "# 브라우저 꺼짐 방지 옵션\n",
        "chrome_options = Options()\n",
        "chrome_options.add_experimental_option(\"detach\", True)\n",
        "\n",
        "# Chromedriver 경로 설정 (절대 경로 사용 권장)\n",
        "chromedriver_path = os.path.abspath('./WebDriver/chromedriver.exe')\n",
        "\n",
        "# Chromedriver 서비스 설정\n",
        "service = Service(chromedriver_path)\n",
        "\n",
        "# 크롬 드라이버 생성\n",
        "driver = webdriver.Chrome(service=service, options=chrome_options)\n",
        "# 브라우저 창 최대화\n",
        "driver.maximize_window()\n",
        "driver.get(url)\n",
        "\n",
        "time.sleep(1)\n",
        "# 입력 필드 찾기\n",
        "input_field = driver.find_element(By.CSS_SELECTOR, \"input[name='address_input']\")\n",
        "time.sleep(WAIT_TIME)\n",
        "# 텍스트 지우기\n",
        "input_field.clear()\n",
        "\n",
        "# \"덕성여자대학교\" 텍스트 입력\n",
        "input_field.send_keys(\"덕성여자대학교\")\n",
        "\n",
        "# 버튼 찾기 및 클릭\n",
        "button = driver.find_element(By.CSS_SELECTOR, \".btn.btn-default.ico-pick\")\n",
        "button.click()\n",
        "\n",
        "# 3번째 li 요소 찾기\n",
        "third_li_element = WebDriverWait(driver, 1).until(\n",
        "    EC.presence_of_element_located((By.XPATH, \"(//ul[@class='dropdown-menu ng-scope am-flip-x bottom-left']//li)[3]/a\"))\n",
        ")\n",
        "\n",
        "# 3번째 li 요소 클릭\n",
        "third_li_element.click()\n",
        "\n",
        "# 페이지 로드 후 일정 시간 대기\n",
        "wait = WebDriverWait(driver, 1.5)\n",
        "\n",
        "# ng-repeat을 가진 li 요소들 찾기 (대기 후)\n",
        "li_elements = wait.until(EC.presence_of_all_elements_located((By.CSS_SELECTOR, \"#category ul li\")))\n",
        "#print(li_elements)\n",
        "# 원하는 인덱스의 li 요소들 선택 (4~9, 11)\n",
        "selected_indices = [4, 5, 6, 7, 8, 10, 11]\n",
        "selected_li_elements = [li_elements[i] for i in selected_indices]\n",
        "#print(selected_li_elements)\n",
        "\n",
        "\n",
        "# 각 선택된 li 요소 클릭\n",
        "for index in selected_indices:\n",
        "    try:\n",
        "        # li 요소를 다시 찾아 클릭\n",
        "        menu_category = wait.until(\n",
        "            EC.presence_of_element_located((By.CSS_SELECTOR, f\"#category ul li:nth-child({index + 1}) span\")))\n",
        "        menu_category_text = menu_category.text\n",
        "        print(menu_category.text)\n",
        "        menu_category.click()\n",
        "\n",
        "        # 페이지 로드 후 일정 시간 대기\n",
        "        time.sleep(WAIT_TIME)  # 드롭다운 로드를 위한 대기 시간 (필요 시 조절)\n",
        "\n",
        "        # select 요소 찾기\n",
        "        select_element = wait.until(EC.presence_of_element_located((By.CSS_SELECTOR, \".list-option-inner select\")))\n",
        "        # 드롭다운 클릭하여 열기\n",
        "        select_element.click()\n",
        "        # '리뷰 많은순' 옵션 선택\n",
        "        review_count_option = wait.until(\n",
        "            EC.presence_of_element_located((By.CSS_SELECTOR, \"option[value='review_count']\")))\n",
        "        review_count_option.click()\n",
        "\n",
        "        # JavaScript로 페이지가 완전히 로드될 때까지 기다리기\n",
        "        time.sleep(WAIT_TIME)  # 추가 대기 시간\n",
        "\n",
        "        # print(f\"Number of 'col-sm-6' divs for category index {index + 1}: {len(restaurant_name_list)}\")\n",
        "        for i in range(5):\n",
        "            restaurant_name_list = driver.find_elements(By.CSS_SELECTOR, \"div.restaurant-name\")\n",
        "            restaurant_name_list[i].click()\n",
        "            time.sleep(1)\n",
        "\n",
        "            # 페이지가 변경되었음을 확인하고 새로운 요소 찾기\n",
        "            title = wait.until(EC.presence_of_element_located((By.CSS_SELECTOR, \".restaurant-title\")))\n",
        "            storeName = title.find_element(By.XPATH, \"span\").text\n",
        "            tab = wait.until(EC.presence_of_element_located((By.CSS_SELECTOR, \".restaurant-tab\")))\n",
        "            clean_review_tab = tab.find_element(By.XPATH, \"//ul[@class='nav nav-tabs restaurant-tab']/li[2]/a\")\n",
        "            time.sleep(1)  # 추가 대기 시간\n",
        "            clean_review_tab.click()\n",
        "\n",
        "            # 목표 날짜 설정\n",
        "            target_date = datetime(2023, 12, 31)\n",
        "\n",
        "            # 목표 날짜까지 리뷰를 로드\n",
        "            load_reviews_until_target_date(target_date)\n",
        "            reviews = driver.find_elements(By.XPATH, \"//li[@class='list-group-item star-point ng-scope']\")\n",
        "            for review in reviews:\n",
        "                taste_point, quantity_point, delivery_point, order_items, review_text = extract_review_info(review)\n",
        "                data = {\n",
        "                    'menu_category': menu_category_text,  # menu_category가 어디에서 오는지에 따라 변경\n",
        "                    'store_name': storeName,\n",
        "                    'taste_point': taste_point,\n",
        "                    'quantity_point': quantity_point,\n",
        "                    'delivery_point': delivery_point,\n",
        "                    'order_items': order_items,\n",
        "                    'review_text': review_text\n",
        "                }\n",
        "                print(data)\n",
        "                results.append(data)\n",
        "\n",
        "                # 뒤로 가기\n",
        "            driver.back()\n",
        "            time.sleep(2)\n",
        "\n",
        "    except Exception as e:\n",
        "        print(f\"Error clicking element at index {index}: {e}\")\n",
        "        time.sleep(2)\n",
        "print(results)\n",
        "\n",
        "# DataFrame으로 변환 및 CSV 파일로 저장\n",
        "df = pd.DataFrame(results)\n",
        "print(df)\n",
        "df.to_csv('reviews.csv', index=False, encoding='utf-8-sig')\n",
        "driver.quit()"
      ],
      "metadata": {
        "id": "eIFcmmqf-NED"
      },
      "execution_count": null,
      "outputs": []
    },
    {
      "cell_type": "markdown",
      "source": [
        "## 2. 데이터 전처리\n",
        "\n"
      ],
      "metadata": {
        "id": "FlvskwESgwMJ"
      }
    },
    {
      "cell_type": "markdown",
      "source": [
        "### 크롤링한 리뷰 데이터 로드"
      ],
      "metadata": {
        "id": "-4LsBowofFGc"
      }
    },
    {
      "cell_type": "code",
      "source": [
        "%cd /content/drive/MyDrive"
      ],
      "metadata": {
        "colab": {
          "base_uri": "https://localhost:8080/"
        },
        "id": "EJp0AVp5ZpQs",
        "outputId": "23c5c716-85a9-4a26-cc0b-348681d52065"
      },
      "execution_count": null,
      "outputs": [
        {
          "output_type": "stream",
          "name": "stdout",
          "text": [
            "/content/drive/MyDrive\n"
          ]
        }
      ]
    },
    {
      "cell_type": "code",
      "execution_count": null,
      "metadata": {
        "id": "XNdg5v_fyEFQ",
        "colab": {
          "base_uri": "https://localhost:8080/"
        },
        "outputId": "6ce9b1e5-26cc-4c9b-b1aa-3553b7b832e2"
      },
      "outputs": [
        {
          "output_type": "stream",
          "name": "stdout",
          "text": [
            "  menu_category store_name  taste_point  quantity_point  delivery_point  \\\n",
            "0            치킨       닭치GO            5               5             NaN   \n",
            "1            치킨       닭치GO            5               5             NaN   \n",
            "2            치킨       닭치GO            5               5             NaN   \n",
            "3            치킨       닭치GO            5               5             NaN   \n",
            "4            치킨       닭치GO            5               5             NaN   \n",
            "\n",
            "                                         order_items           review_text  \n",
            "0  반반치킨/1(뼈／순살 선택(（순살）),반반치킨 선택(후라이드),반반치킨 선택(양념치킨))        항상 맛있게 먹고있습니다~  \n",
            "1  나 혼 자 순 살 반 반/1(나혼자 반반세트 치킨 선택(스노윙),나혼자 반반세트 치...           늘 잘 먹고있습니다!  \n",
            "2  반반치킨/1(뼈／순살 선택(（순살）),반반치킨 선택(후라이드),반반치킨 선택(양념치킨))  치킨생각나면 닭치Go가 생각나요 ㅎㅎ  \n",
            "3  나 혼 자 순 살 반 반/1(나혼자 반반세트 치킨 선택(후라이드),나혼자 반반세트 ...          이집은 항상 맛집이에요  \n",
            "4  반반치킨/1(뼈／순살 선택(（순살）),반반치킨 선택(핫양념치킨),반반치킨 선택(허니...           맛있게잘먹었습니다~~  \n"
          ]
        }
      ],
      "source": [
        "import pandas as pd\n",
        "# 저장된 CSV 파일을 다시 읽어서 확인\n",
        "review_df = pd.read_csv('reviews2.csv', encoding='utf-8-sig')\n",
        "\n",
        "# DataFrame 확인\n",
        "print(review_df.head())"
      ]
    },
    {
      "cell_type": "code",
      "source": [
        "# DataFrame의 행과 열의 수 확인\n",
        "print(\"\\nDataFrame Shape:\")\n",
        "print(review_df.shape)"
      ],
      "metadata": {
        "colab": {
          "base_uri": "https://localhost:8080/"
        },
        "id": "XhYnhU5IcA5K",
        "outputId": "ee16a90f-10c7-45ae-c7ce-05e109211003"
      },
      "execution_count": null,
      "outputs": [
        {
          "output_type": "stream",
          "name": "stdout",
          "text": [
            "\n",
            "DataFrame Shape:\n",
            "(11130, 7)\n"
          ]
        }
      ]
    },
    {
      "cell_type": "code",
      "source": [
        "review2_df = pd.read_csv('reviews_encoding2.csv', encoding='utf-8')\n",
        "\n",
        "# DataFrame 확인\n",
        "print(review2_df.head())"
      ],
      "metadata": {
        "colab": {
          "base_uri": "https://localhost:8080/"
        },
        "id": "nzHQ_VjvZodZ",
        "outputId": "31886735-4b3c-4bca-b41e-40ddb77ad35b"
      },
      "execution_count": null,
      "outputs": [
        {
          "output_type": "stream",
          "name": "stdout",
          "text": [
            "  menu_category store_name  taste_point  quantity_point  delivery_point  \\\n",
            "0            치킨       닭치GO            5               5             NaN   \n",
            "1            치킨       닭치GO            5               5             NaN   \n",
            "2            치킨       닭치GO            5               5             NaN   \n",
            "3            치킨       닭치GO            5               5             NaN   \n",
            "4            치킨       닭치GO            5               5             NaN   \n",
            "\n",
            "                                         order_items           review_text  \n",
            "0  반반치킨/1(뼈／순살 선택(（순살）),반반치킨 선택(후라이드),반반치킨 선택(양념치킨))        항상 맛있게 먹고있습니다~  \n",
            "1  나 혼 자 순 살 반 반/1(나혼자 반반세트 치킨 선택(스노윙),나혼자 반반세트 치...           늘 잘 먹고있습니다!  \n",
            "2  반반치킨/1(뼈／순살 선택(（순살）),반반치킨 선택(후라이드),반반치킨 선택(양념치킨))  치킨생각나면 닭치Go가 생각나요 ㅎㅎ  \n",
            "3  나 혼 자 순 살 반 반/1(나혼자 반반세트 치킨 선택(후라이드),나혼자 반반세트 ...          이집은 항상 맛집이에요  \n",
            "4  반반치킨/1(뼈／순살 선택(（순살）),반반치킨 선택(핫양념치킨),반반치킨 선택(허니...           맛있게잘먹었습니다~~  \n"
          ]
        }
      ]
    },
    {
      "cell_type": "code",
      "source": [
        "# DataFrame의 행과 열의 수 확인\n",
        "print(\"\\nDataFrame Shape:\")\n",
        "print(review2_df.shape)"
      ],
      "metadata": {
        "colab": {
          "base_uri": "https://localhost:8080/"
        },
        "id": "dSkw2MAccS_u",
        "outputId": "1d6d319e-d314-474d-8915-60268136288f"
      },
      "execution_count": null,
      "outputs": [
        {
          "output_type": "stream",
          "name": "stdout",
          "text": [
            "\n",
            "DataFrame Shape:\n",
            "(6330, 7)\n"
          ]
        }
      ]
    },
    {
      "cell_type": "code",
      "source": [
        "review_df['menu_category'].unique()"
      ],
      "metadata": {
        "colab": {
          "base_uri": "https://localhost:8080/"
        },
        "id": "W8YdLdtMeyyC",
        "outputId": "08f35887-9695-4a04-a4a0-07d3bd8e6d7e"
      },
      "execution_count": null,
      "outputs": [
        {
          "output_type": "execute_result",
          "data": {
            "text/plain": [
              "array(['치킨', '피자/양식', '중국집', '한식', '일식/돈까스', '야식', '분식'], dtype=object)"
            ]
          },
          "metadata": {},
          "execution_count": 27
        }
      ]
    },
    {
      "cell_type": "code",
      "source": [
        "review2_df['menu_category'].unique()"
      ],
      "metadata": {
        "colab": {
          "base_uri": "https://localhost:8080/"
        },
        "id": "6KEc5m6fe6lT",
        "outputId": "3b3c8e7f-7a1d-4368-a048-fbde5bfb8c32"
      },
      "execution_count": null,
      "outputs": [
        {
          "output_type": "execute_result",
          "data": {
            "text/plain": [
              "array(['치킨', '피자/양식', '야식', '분식'], dtype=object)"
            ]
          },
          "metadata": {},
          "execution_count": 28
        }
      ]
    },
    {
      "cell_type": "markdown",
      "source": [
        "selenium을 이용하여 동적 크롤링을 두 번 진행하였으나, 일부 카테고리는 크롤링이 안되었거나, '치킨'의 경우 중간에 크롤링을 하다 말고 에러가 생겨 다음 '피자/양식' 다음 카테고리로 넘어간 것을 발견.   \n",
        "아래에서 두 개의 review_df 합치기 진행\n",
        "\n",
        "\n",
        "-------------\n",
        "\n"
      ],
      "metadata": {
        "id": "jywkcq9gRM_s"
      }
    },
    {
      "cell_type": "markdown",
      "source": [
        "### 두 개 review_df 합치기 전 `menu_category`, `store_name` 겹치는 데이터 제거"
      ],
      "metadata": {
        "id": "yssqk-IQsF44"
      }
    },
    {
      "cell_type": "markdown",
      "source": [
        "#### 두 개의 review df `치킨` 카테고리 확인"
      ],
      "metadata": {
        "id": "eaewvinhmke4"
      }
    },
    {
      "cell_type": "code",
      "source": [
        "# '치킨' 카테고리의 고유 값을 확인\n",
        "chicken_unique_stores = review_df[review_df['menu_category'] == '치킨']['store_name'].unique()\n",
        "\n",
        "# 고유 값 출력\n",
        "print(\"Unique stores in '치킨' category:\")\n",
        "print(chicken_unique_stores)\n",
        "\n",
        "# 고유 항목 수 출력\n",
        "print(\"\\nNumber of unique stores in '치킨' category:\")\n",
        "print(len(chicken_unique_stores))"
      ],
      "metadata": {
        "colab": {
          "base_uri": "https://localhost:8080/"
        },
        "id": "O6YQLe-qdTu1",
        "outputId": "d1d1f323-6bd1-4873-b110-9e247290a381"
      },
      "execution_count": null,
      "outputs": [
        {
          "output_type": "stream",
          "name": "stdout",
          "text": [
            "Unique stores in '치킨' category:\n",
            "['닭치GO']\n",
            "\n",
            "Number of unique stores in '치킨' category:\n",
            "1\n"
          ]
        }
      ]
    },
    {
      "cell_type": "code",
      "source": [
        "# '치킨' 카테고리의 고유 값을 확인\n",
        "chicken_unique_stores = review2_df[review2_df['menu_category'] == '치킨']['store_name'].unique()\n",
        "\n",
        "# 고유 값 출력\n",
        "print(\"Unique stores in '치킨' category:\")\n",
        "print(chicken_unique_stores)\n",
        "\n",
        "# 고유 항목 수 출력\n",
        "print(\"\\nNumber of unique stores in '치킨' category:\")\n",
        "print(len(chicken_unique_stores))"
      ],
      "metadata": {
        "colab": {
          "base_uri": "https://localhost:8080/"
        },
        "id": "fE6WDrcQgLaW",
        "outputId": "3c972f77-8d2f-4602-8c00-75db07429e83"
      },
      "execution_count": null,
      "outputs": [
        {
          "output_type": "stream",
          "name": "stdout",
          "text": [
            "Unique stores in '치킨' category:\n",
            "['닭치GO' '옆집떡볶이-미아점' '지코바치킨-서울수유1호점' '후라이드참잘하는집-쌍문점' '처갓집양념치킨-삼양점']\n",
            "\n",
            "Number of unique stores in '치킨' category:\n",
            "5\n"
          ]
        }
      ]
    },
    {
      "cell_type": "code",
      "source": [
        "print(len(review_df[(review_df['menu_category'] == '치킨') & (review_df['store_name'] == '닭치GO')]))"
      ],
      "metadata": {
        "colab": {
          "base_uri": "https://localhost:8080/"
        },
        "id": "_hVHRGEYlb3c",
        "outputId": "1d24a108-1d2b-4a1a-9f11-1523a0ade8e8"
      },
      "execution_count": null,
      "outputs": [
        {
          "output_type": "stream",
          "name": "stdout",
          "text": [
            "360\n"
          ]
        }
      ]
    },
    {
      "cell_type": "code",
      "source": [
        "len(review2_df[(review2_df['menu_category'] == '치킨') & (review2_df['store_name'] == '닭치GO')])"
      ],
      "metadata": {
        "colab": {
          "base_uri": "https://localhost:8080/"
        },
        "id": "Wqgn9Dpmlnx5",
        "outputId": "61782f7d-d712-407b-aea8-788114cdf659"
      },
      "execution_count": null,
      "outputs": [
        {
          "output_type": "execute_result",
          "data": {
            "text/plain": [
              "360"
            ]
          },
          "metadata": {},
          "execution_count": 44
        }
      ]
    },
    {
      "cell_type": "code",
      "source": [
        "# review2_df에 '치킨' 카테고리의 '닭치GO' 데이터 제거\n",
        "review2_df = review2_df[~((review2_df['menu_category'] == '치킨') & (review2_df['store_name'] == '닭치GO'))]"
      ],
      "metadata": {
        "id": "xoUfFMFImGQV"
      },
      "execution_count": null,
      "outputs": []
    },
    {
      "cell_type": "code",
      "source": [
        "review2_df.shape"
      ],
      "metadata": {
        "colab": {
          "base_uri": "https://localhost:8080/"
        },
        "id": "Bj-eSvS7mL4s",
        "outputId": "f31ca456-baa6-4ccf-b4c5-7823ecd8be5a"
      },
      "execution_count": null,
      "outputs": [
        {
          "output_type": "execute_result",
          "data": {
            "text/plain": [
              "(5970, 7)"
            ]
          },
          "metadata": {},
          "execution_count": 47
        }
      ]
    },
    {
      "cell_type": "markdown",
      "source": [
        "#### 두 개의 review df `피자/양식` 카테고리 확인\n"
      ],
      "metadata": {
        "id": "jGgi3p_anFl0"
      }
    },
    {
      "cell_type": "code",
      "source": [
        "# '피자/양식' 카테고리의 고유 값을 확인\n",
        "pizza_unique_stores = review_df[review_df['menu_category'] == '피자/양식']['store_name'].unique()\n",
        "\n",
        "# 고유 값 출력\n",
        "print(\"Unique stores in '피자/양식' category:\")\n",
        "print(pizza_unique_stores)\n",
        "\n",
        "# 고유 항목 수 출력\n",
        "print(\"\\nNumber of unique stores in '피자/양식' category:\")\n",
        "print(len(pizza_unique_stores))"
      ],
      "metadata": {
        "colab": {
          "base_uri": "https://localhost:8080/"
        },
        "id": "GqVO0qEqerP4",
        "outputId": "e076b887-78e7-4bdf-c61a-c41035469c8b"
      },
      "execution_count": null,
      "outputs": [
        {
          "output_type": "stream",
          "name": "stdout",
          "text": [
            "Unique stores in '피자/양식' category:\n",
            "['피자글릭-강북점' '삿포로돈까스앤스파게티' '치탈리아-쌍문점' '청년피자-도봉구점' '두마리찜닭두찜-강북미아점']\n",
            "\n",
            "Number of unique stores in '피자/양식' category:\n",
            "5\n"
          ]
        }
      ]
    },
    {
      "cell_type": "code",
      "source": [
        "# '피자/양식' 카테고리의 고유 값을 확인\n",
        "pizza_unique_stores = review2_df[review2_df['menu_category'] == '피자/양식']['store_name'].unique()\n",
        "\n",
        "# 고유 값 출력\n",
        "print(\"Unique stores in '피자/양식' category:\")\n",
        "print(pizza_unique_stores)\n",
        "\n",
        "# 고유 항목 수 출력\n",
        "print(\"\\nNumber of unique stores in '피자/양식' category:\")\n",
        "print(len(pizza_unique_stores))"
      ],
      "metadata": {
        "colab": {
          "base_uri": "https://localhost:8080/"
        },
        "id": "iHKAlpUyeATc",
        "outputId": "58b0036c-876f-474a-ec70-c67cc514097f"
      },
      "execution_count": null,
      "outputs": [
        {
          "output_type": "stream",
          "name": "stdout",
          "text": [
            "Unique stores in '피자/양식' category:\n",
            "['피자글릭-강북점' '삿포로돈까스앤스파게티']\n",
            "\n",
            "Number of unique stores in '피자/양식' category:\n",
            "2\n"
          ]
        }
      ]
    },
    {
      "cell_type": "code",
      "source": [
        "print('review_df 피자글릭-강북점 개수: ', len(review_df[(review_df['menu_category'] == '피자/양식') & (review_df['store_name'] == '피자글릭-강북점')]))\n",
        "print('review2_df 피자글릭-강북점 개수: ',len(review2_df[(review2_df['menu_category'] == '피자/양식') & (review2_df['store_name'] == '피자글릭-강북점')]))"
      ],
      "metadata": {
        "colab": {
          "base_uri": "https://localhost:8080/"
        },
        "id": "BRXd68Hlnlzd",
        "outputId": "444252fb-7ae6-42ad-f0cc-a894c65a26fa"
      },
      "execution_count": null,
      "outputs": [
        {
          "output_type": "stream",
          "name": "stdout",
          "text": [
            "review_df 피자글릭-강북점 개수:  420\n",
            "review2_df 피자글릭-강북점 개수:  420\n"
          ]
        }
      ]
    },
    {
      "cell_type": "code",
      "source": [
        "print('review_df 삿포로돈까스앤스파게티 개수: ', len(review_df[(review_df['menu_category'] == '피자/양식') & (review_df['store_name'] == '삿포로돈까스앤스파게티')]))\n",
        "print('review2_df 삿포로돈까스앤스파게티 개수: ',len(review2_df[(review2_df['menu_category'] == '피자/양식') & (review2_df['store_name'] == '삿포로돈까스앤스파게티')]))"
      ],
      "metadata": {
        "colab": {
          "base_uri": "https://localhost:8080/"
        },
        "id": "5ofI6m9voIfO",
        "outputId": "f107f10c-6d80-4b7b-c15e-6d95d56a1dee"
      },
      "execution_count": null,
      "outputs": [
        {
          "output_type": "stream",
          "name": "stdout",
          "text": [
            "review_df 삿포로돈까스앤스파게티 개수:  340\n",
            "review2_df 삿포로돈까스앤스파게티 개수:  340\n"
          ]
        }
      ]
    },
    {
      "cell_type": "code",
      "source": [
        "# review2_df '피자/양식' 카테고리의 '피자글릭-강북점'&삿포로돈까스앤스파게티' 데이터 제거\n",
        "review2_df = review2_df[~((review2_df['menu_category'] == '피자/양식') & (review2_df['store_name'] == '피자글릭-강북점')) & ~((review2_df['menu_category'] == '피자/양식') & (review2_df['store_name'] == '삿포로돈까스앤스파게티'))]\n",
        "print(review2_df.shape)"
      ],
      "metadata": {
        "colab": {
          "base_uri": "https://localhost:8080/"
        },
        "id": "mzTA_h2koOei",
        "outputId": "021a0dbd-a1af-4d8a-e516-f4df60163c91"
      },
      "execution_count": null,
      "outputs": [
        {
          "output_type": "stream",
          "name": "stdout",
          "text": [
            "(5210, 7)\n"
          ]
        }
      ]
    },
    {
      "cell_type": "markdown",
      "source": [
        "#### 두 개의 review df `야식` 카테고리 확인"
      ],
      "metadata": {
        "id": "_DiOeLY5nmMO"
      }
    },
    {
      "cell_type": "code",
      "source": [
        "# '야식' 카테고리의 고유 값을 확인\n",
        "yasik_unique_stores = review_df[review_df['menu_category'] == '야식']['store_name'].unique()\n",
        "\n",
        "# 고유 값 출력\n",
        "print(\"Unique stores in '야식' category:\")\n",
        "print(yasik_unique_stores)\n",
        "\n",
        "# 고유 항목 수 출력\n",
        "print(\"\\nNumber of unique stores in '야식' category:\")\n",
        "print(len(yasik_unique_stores))"
      ],
      "metadata": {
        "colab": {
          "base_uri": "https://localhost:8080/"
        },
        "id": "1aJmzRaAfagP",
        "outputId": "34b64ed1-6195-48f5-94fa-162e2634ac6f"
      },
      "execution_count": null,
      "outputs": [
        {
          "output_type": "stream",
          "name": "stdout",
          "text": [
            "Unique stores in '야식' category:\n",
            "['족발야시장-수유역점' '옆집떡볶이-미아점']\n",
            "\n",
            "Number of unique stores in '야식' category:\n",
            "2\n"
          ]
        }
      ]
    },
    {
      "cell_type": "code",
      "source": [
        "# '야식' 카테고리의 고유 값을 확인\n",
        "yasik_unique_stores = review2_df[review2_df['menu_category'] == '야식']['store_name'].unique()\n",
        "\n",
        "# 고유 값 출력\n",
        "print(\"Unique stores in '야식' category:\")\n",
        "print(yasik_unique_stores)\n",
        "\n",
        "# 고유 항목 수 출력\n",
        "print(\"\\nNumber of unique stores in '야식' category:\")\n",
        "print(len(yasik_unique_stores))"
      ],
      "metadata": {
        "colab": {
          "base_uri": "https://localhost:8080/"
        },
        "id": "UwCbpsF5f2mY",
        "outputId": "d3015a8a-5ee7-4aac-aeba-8c5b4d145fc7"
      },
      "execution_count": null,
      "outputs": [
        {
          "output_type": "stream",
          "name": "stdout",
          "text": [
            "Unique stores in '야식' category:\n",
            "['족발야시장-수유역점' '옆집떡볶이-미아점' '지코바치킨-서울수유1호점' '24시코리아홈푸드' '후라이드참잘하는집-쌍문점']\n",
            "\n",
            "Number of unique stores in '야식' category:\n",
            "5\n"
          ]
        }
      ]
    },
    {
      "cell_type": "code",
      "source": [
        "print('review_df 족발야시장-수유역점 개수: ', len(review_df[(review_df['menu_category'] == '야식') & (review_df['store_name'] == '족발야시장-수유역점')]))\n",
        "print('review2_df 족발야시장-수유역점 개수: ',len(review2_df[(review2_df['menu_category'] == '야식') & (review2_df['store_name'] == '족발야시장-수유역점')]))"
      ],
      "metadata": {
        "colab": {
          "base_uri": "https://localhost:8080/"
        },
        "id": "sywBr6F2o4yN",
        "outputId": "d3a1ef2f-bb60-483f-dfbc-735d7d3059f1"
      },
      "execution_count": null,
      "outputs": [
        {
          "output_type": "stream",
          "name": "stdout",
          "text": [
            "review_df 족발야시장-수유역점 개수:  440\n",
            "review2_df 족발야시장-수유역점 개수:  430\n"
          ]
        }
      ]
    },
    {
      "cell_type": "code",
      "source": [
        "print('review_df 옆집떡볶이-미아점 개수: ', len(review_df[(review_df['menu_category'] == '야식') & (review_df['store_name'] == '옆집떡볶이-미아점')]))\n",
        "print('review2_df 옆집떡볶이-미아점 개수: ',len(review2_df[(review2_df['menu_category'] == '야식') & (review2_df['store_name'] == '옆집떡볶이-미아점')]))"
      ],
      "metadata": {
        "colab": {
          "base_uri": "https://localhost:8080/"
        },
        "id": "ypRE6D5WpPY-",
        "outputId": "c45c9e9d-06c2-4d4e-9d00-c2e170dfcbef"
      },
      "execution_count": null,
      "outputs": [
        {
          "output_type": "stream",
          "name": "stdout",
          "text": [
            "review_df 옆집떡볶이-미아점 개수:  790\n",
            "review2_df 옆집떡볶이-미아점 개수:  790\n"
          ]
        }
      ]
    },
    {
      "cell_type": "code",
      "source": [
        "# review2_df '야식' 카테고리의 '옆집떡볶이-미아점' 데이터 제거\n",
        "review2_df = review2_df[~((review2_df['menu_category'] == '야식') & (review2_df['store_name'] == '옆집떡볶이-미아점'))]\n",
        "print(review2_df.shape)"
      ],
      "metadata": {
        "colab": {
          "base_uri": "https://localhost:8080/"
        },
        "id": "fK3zyexLpX4P",
        "outputId": "9de9a8e7-08ed-4672-d379-cf69917be60d"
      },
      "execution_count": null,
      "outputs": [
        {
          "output_type": "stream",
          "name": "stdout",
          "text": [
            "(4420, 7)\n"
          ]
        }
      ]
    },
    {
      "cell_type": "code",
      "source": [
        "# review2_df '야식' 카테고리의 '족발야시장-수유역점' 데이터 제거\n",
        "review2_df = review2_df[~((review2_df['menu_category'] == '야식') & (review2_df['store_name'] == '족발야시장-수유역점'))]\n",
        "print(review2_df.shape)"
      ],
      "metadata": {
        "colab": {
          "base_uri": "https://localhost:8080/"
        },
        "id": "bRyGYJSDpiKu",
        "outputId": "dd6cd647-e85a-4dd8-bed8-95f459bda701"
      },
      "execution_count": null,
      "outputs": [
        {
          "output_type": "stream",
          "name": "stdout",
          "text": [
            "(3990, 7)\n"
          ]
        }
      ]
    },
    {
      "cell_type": "markdown",
      "source": [
        "#### 두 개의 review df `분식` 카테고리 확인"
      ],
      "metadata": {
        "id": "dD_QpWIZo5Om"
      }
    },
    {
      "cell_type": "code",
      "source": [
        "# '분식' 카테고리의 고유 값을 확인\n",
        "bunsik_unique_stores = review_df[review_df['menu_category'] == '분식']['store_name'].unique()\n",
        "\n",
        "# 고유 값 출력\n",
        "print(\"Unique stores in '분식' category:\")\n",
        "print(bunsik_unique_stores)\n",
        "\n",
        "# 고유 항목 수 출력\n",
        "print(\"\\nNumber of unique stores in '분식' category:\")\n",
        "print(len(bunsik_unique_stores))"
      ],
      "metadata": {
        "colab": {
          "base_uri": "https://localhost:8080/"
        },
        "id": "8fu0XJuFf9uZ",
        "outputId": "5f32552d-fb3d-4661-f9c6-d2a4680b6056"
      },
      "execution_count": null,
      "outputs": [
        {
          "output_type": "stream",
          "name": "stdout",
          "text": [
            "Unique stores in '분식' category:\n",
            "['옆집떡볶이-미아점' '24시코리아홈푸드' '맘스떡볶이n컵밥-수유점' '차고집냉면-강북점' '걸작떡볶이치킨-쌍문창동점']\n",
            "\n",
            "Number of unique stores in '분식' category:\n",
            "5\n"
          ]
        }
      ]
    },
    {
      "cell_type": "code",
      "source": [
        "# '분식' 카테고리의 고유 값을 확인\n",
        "bunsik_unique_stores = review2_df[review2_df['menu_category'] == '분식']['store_name'].unique()\n",
        "\n",
        "# 고유 값 출력\n",
        "print(\"Unique stores in '분식' category:\")\n",
        "print(bunsik_unique_stores)\n",
        "\n",
        "# 고유 항목 수 출력\n",
        "print(\"\\nNumber of unique stores in '분식' category:\")\n",
        "print(len(bunsik_unique_stores))"
      ],
      "metadata": {
        "colab": {
          "base_uri": "https://localhost:8080/"
        },
        "id": "IxoNGeigeGid",
        "outputId": "4f36b252-70bb-4a18-88ae-14ab4ffa3f26"
      },
      "execution_count": null,
      "outputs": [
        {
          "output_type": "stream",
          "name": "stdout",
          "text": [
            "Unique stores in '분식' category:\n",
            "['옆집떡볶이-미아점' '24시코리아홈푸드' '맘스떡볶이n컵밥-수유점' '차고집냉면-강북점' '걸작떡볶이치킨-쌍문창동점']\n",
            "\n",
            "Number of unique stores in '분식' category:\n",
            "5\n"
          ]
        }
      ]
    },
    {
      "cell_type": "code",
      "source": [
        "print('review_df 옆집떡볶이-미아점 개수: ', len(review_df[(review_df['menu_category'] == '분식') & (review_df['store_name'] == '옆집떡볶이-미아점')]))\n",
        "print('review2_df 옆집떡볶이-미아점 개수: ',len(review2_df[(review2_df['menu_category'] == '분식') & (review2_df['store_name'] == '옆집떡볶이-미아점')]))"
      ],
      "metadata": {
        "colab": {
          "base_uri": "https://localhost:8080/"
        },
        "id": "bJ-5_CLep5Mm",
        "outputId": "db08099c-0390-4a05-c1d5-c8230ad3c88c"
      },
      "execution_count": null,
      "outputs": [
        {
          "output_type": "stream",
          "name": "stdout",
          "text": [
            "review_df 옆집떡볶이-미아점 개수:  790\n",
            "review2_df 옆집떡볶이-미아점 개수:  790\n"
          ]
        }
      ]
    },
    {
      "cell_type": "code",
      "source": [
        "print('review_df 24시코리아홈푸드 개수: ', len(review_df[(review_df['menu_category'] == '분식') & (review_df['store_name'] == '24시코리아홈푸드')]))\n",
        "print('review2_df 24시코리아홈푸드 개수: ',len(review2_df[(review2_df['menu_category'] == '분식') & (review2_df['store_name'] == '24시코리아홈푸드')]))"
      ],
      "metadata": {
        "colab": {
          "base_uri": "https://localhost:8080/"
        },
        "id": "uRLWIaLyp_Q1",
        "outputId": "fe729424-851b-4174-9b1c-ed1f13fbc125"
      },
      "execution_count": null,
      "outputs": [
        {
          "output_type": "stream",
          "name": "stdout",
          "text": [
            "review_df 24시코리아홈푸드 개수:  100\n",
            "review2_df 24시코리아홈푸드 개수:  100\n"
          ]
        }
      ]
    },
    {
      "cell_type": "code",
      "source": [
        "print('review_df 맘스떡볶이n컵밥-수유점 개수: ', len(review_df[(review_df['menu_category'] == '분식') & (review_df['store_name'] == '맘스떡볶이n컵밥-수유점')]))\n",
        "print('review2_df 맘스떡볶이n컵밥-수유점 개수: ',len(review2_df[(review2_df['menu_category'] == '분식') & (review2_df['store_name'] == '맘스떡볶이n컵밥-수유점')]))"
      ],
      "metadata": {
        "colab": {
          "base_uri": "https://localhost:8080/"
        },
        "id": "aD2jWFkCp-_o",
        "outputId": "fb76f815-93ef-4ba9-b3fa-193b60b8376f"
      },
      "execution_count": null,
      "outputs": [
        {
          "output_type": "stream",
          "name": "stdout",
          "text": [
            "review_df 맘스떡볶이n컵밥-수유점 개수:  380\n",
            "review2_df 맘스떡볶이n컵밥-수유점 개수:  380\n"
          ]
        }
      ]
    },
    {
      "cell_type": "code",
      "source": [
        "print('review_df 차고집냉면-강북점 개수: ', len(review_df[(review_df['menu_category'] == '분식') & (review_df['store_name'] == '차고집냉면-강북점')]))\n",
        "print('review2_df 차고집냉면-강북점 개수: ',len(review2_df[(review2_df['menu_category'] == '분식') & (review2_df['store_name'] == '차고집냉면-강북점')]))"
      ],
      "metadata": {
        "colab": {
          "base_uri": "https://localhost:8080/"
        },
        "id": "lXGhYMv5p-3T",
        "outputId": "f325cb08-fd8f-487a-bea6-d82a8621dbf6"
      },
      "execution_count": null,
      "outputs": [
        {
          "output_type": "stream",
          "name": "stdout",
          "text": [
            "review_df 차고집냉면-강북점 개수:  280\n",
            "review2_df 차고집냉면-강북점 개수:  280\n"
          ]
        }
      ]
    },
    {
      "cell_type": "code",
      "source": [
        "print('review_df 걸작떡볶이치킨-쌍문창동점 개수: ', len(review_df[(review_df['menu_category'] == '분식') & (review_df['store_name'] == '걸작떡볶이치킨-쌍문창동점')]))\n",
        "print('review2_df 걸작떡볶이치킨-쌍문창동점 개수: ',len(review2_df[(review2_df['menu_category'] == '분식') & (review2_df['store_name'] == '걸작떡볶이치킨-쌍문창동점')]))"
      ],
      "metadata": {
        "colab": {
          "base_uri": "https://localhost:8080/"
        },
        "id": "lnTPRD6Hp-rl",
        "outputId": "b1554655-7dec-42e4-dd29-f318f9a7557d"
      },
      "execution_count": null,
      "outputs": [
        {
          "output_type": "stream",
          "name": "stdout",
          "text": [
            "review_df 걸작떡볶이치킨-쌍문창동점 개수:  90\n",
            "review2_df 걸작떡볶이치킨-쌍문창동점 개수:  90\n"
          ]
        }
      ]
    },
    {
      "cell_type": "code",
      "source": [
        "# review2_df '분식' 카테고리의 '옆집떡볶이-미아점'&'24시코리아홈푸드'&'맘스떡볶이n컵밥-수유점'&'차고집냉면-강북점'&'걸작떡볶이치킨-쌍문창동점' 데이터 제거\n",
        "review2_df = review2_df[~((review2_df['menu_category'] == '분식') & (review2_df['store_name'] == '옆집떡볶이-미아점')) & ~((review2_df['menu_category'] == '분식') & (review2_df['store_name'] == '24시코리아홈푸드'))\n",
        "                      & ~((review2_df['menu_category'] == '분식') & (review2_df['store_name'] == '맘스떡볶이n컵밥-수유점')) & ~((review2_df['menu_category'] == '분식') & (review2_df['store_name'] == '차고집냉면-강북점'))\n",
        "                         & ~((review2_df['menu_category'] == '분식') & (review2_df['store_name'] == '걸작떡볶이치킨-쌍문창동점'))]\n",
        "print(review2_df.shape)"
      ],
      "metadata": {
        "colab": {
          "base_uri": "https://localhost:8080/"
        },
        "id": "77B0gCavqhVi",
        "outputId": "6bcd3179-8e5f-4201-db18-c4e14b5ec2dd"
      },
      "execution_count": null,
      "outputs": [
        {
          "output_type": "stream",
          "name": "stdout",
          "text": [
            "(2350, 7)\n"
          ]
        }
      ]
    },
    {
      "cell_type": "markdown",
      "source": [
        "#### review_df, review2_df 전처리 후 데이터 개수 확인 & 합치기"
      ],
      "metadata": {
        "id": "C15DZVC2uTQo"
      }
    },
    {
      "cell_type": "code",
      "source": [
        "print(review_df.shape, review_df['menu_category'].unique())\n",
        "print(review2_df.shape, review2_df['menu_category'].unique())"
      ],
      "metadata": {
        "colab": {
          "base_uri": "https://localhost:8080/"
        },
        "id": "vdo9WFOquU1d",
        "outputId": "87e3edb1-a67c-4a81-a5d1-9d91aedb8611"
      },
      "execution_count": null,
      "outputs": [
        {
          "output_type": "stream",
          "name": "stdout",
          "text": [
            "(11130, 7) ['치킨' '피자/양식' '중국집' '한식' '일식/돈까스' '야식' '분식']\n",
            "(2350, 7) ['치킨' '야식']\n"
          ]
        }
      ]
    },
    {
      "cell_type": "code",
      "source": [
        "print(review_df[review_df['menu_category'] == '치킨']['store_name'].unique())\n",
        "print(review2_df[review2_df['menu_category'] == '치킨']['store_name'].unique())"
      ],
      "metadata": {
        "colab": {
          "base_uri": "https://localhost:8080/"
        },
        "id": "DHlGe-X8uoqs",
        "outputId": "b28f5d4b-06e1-4fcb-dc73-5237fd43b958"
      },
      "execution_count": null,
      "outputs": [
        {
          "output_type": "stream",
          "name": "stdout",
          "text": [
            "['닭치GO']\n",
            "['옆집떡볶이-미아점' '지코바치킨-서울수유1호점' '후라이드참잘하는집-쌍문점' '처갓집양념치킨-삼양점']\n"
          ]
        }
      ]
    },
    {
      "cell_type": "code",
      "source": [
        "print(review_df[review_df['menu_category'] == '야식']['store_name'].unique())\n",
        "print(review2_df[review2_df['menu_category'] == '야식']['store_name'].unique())"
      ],
      "metadata": {
        "colab": {
          "base_uri": "https://localhost:8080/"
        },
        "id": "Y-EO23wSu92l",
        "outputId": "cc9abd64-8dbe-4b31-be6f-0f10a569ee2f"
      },
      "execution_count": null,
      "outputs": [
        {
          "output_type": "stream",
          "name": "stdout",
          "text": [
            "['족발야시장-수유역점' '옆집떡볶이-미아점']\n",
            "['지코바치킨-서울수유1호점' '24시코리아홈푸드' '후라이드참잘하는집-쌍문점']\n"
          ]
        }
      ]
    },
    {
      "cell_type": "code",
      "source": [
        "# DataFrame 합치기\n",
        "combined_df = pd.concat([review_df, review2_df], ignore_index=True)\n",
        "combined_df.to_csv('combined_reviews.csv', index=False, encoding='utf-8-sig')"
      ],
      "metadata": {
        "id": "-EgfBo57vDZL"
      },
      "execution_count": null,
      "outputs": []
    },
    {
      "cell_type": "code",
      "source": [
        "combined_df.shape"
      ],
      "metadata": {
        "colab": {
          "base_uri": "https://localhost:8080/"
        },
        "id": "ysaQiwEGv2Yz",
        "outputId": "cdc55861-e651-4947-cea1-a4602e1275dc"
      },
      "execution_count": null,
      "outputs": [
        {
          "output_type": "execute_result",
          "data": {
            "text/plain": [
              "(13480, 7)"
            ]
          },
          "metadata": {},
          "execution_count": 75
        }
      ]
    },
    {
      "cell_type": "code",
      "source": [
        "# menu_category별로 그룹화\n",
        "grouped_dfs = {category: combined_df[combined_df['menu_category'] == category] for category in combined_df['menu_category'].unique()}\n",
        "\n",
        "# 결과를 확인하기 위해 각 카테고리별 데이터프레임의 크기를 출력\n",
        "for category, df in grouped_dfs.items():\n",
        "    print(f\"{category} : {df.shape}\")"
      ],
      "metadata": {
        "colab": {
          "base_uri": "https://localhost:8080/"
        },
        "id": "XcaQhycSwkDT",
        "outputId": "3c11f4d6-c1a8-4701-981d-243d2f3eac36"
      },
      "execution_count": null,
      "outputs": [
        {
          "output_type": "stream",
          "name": "stdout",
          "text": [
            "치킨 : (2050, 7)\n",
            "피자/양식 : (1810, 7)\n",
            "중국집 : (2200, 7)\n",
            "한식 : (2520, 7)\n",
            "일식/돈까스 : (1370, 7)\n",
            "야식 : (1890, 7)\n",
            "분식 : (1640, 7)\n"
          ]
        }
      ]
    },
    {
      "cell_type": "code",
      "source": [
        "# 카테고리별 가게명 확인\n",
        "for category in combined_df['menu_category'].unique():\n",
        "  print(category, combined_df[combined_df['menu_category'] == category]['store_name'].unique())"
      ],
      "metadata": {
        "colab": {
          "base_uri": "https://localhost:8080/"
        },
        "id": "sNMfflGjxyEK",
        "outputId": "fbe7aab8-8504-4b20-a3ab-f5938ab8bce0"
      },
      "execution_count": null,
      "outputs": [
        {
          "output_type": "stream",
          "name": "stdout",
          "text": [
            "치킨 ['닭치GO' '옆집떡볶이-미아점' '지코바치킨-서울수유1호점' '후라이드참잘하는집-쌍문점' '처갓집양념치킨-삼양점']\n",
            "피자/양식 ['피자글릭-강북점' '삿포로돈까스앤스파게티' '치탈리아-쌍문점' '청년피자-도봉구점' '두마리찜닭두찜-강북미아점']\n",
            "중국집 ['라와마라탕-본점' '레드차이나' '차우린해물짬뽕' '챠이니-강북점' '최고성-쌍문점']\n",
            "한식 ['옆집떡볶이-미아점' '24시코리아홈푸드' '라와마라탕-본점' '삿포로돈까스앤스파게티' '맘스떡볶이n컵밥-수유점']\n",
            "일식/돈까스 ['24시코리아홈푸드' '삿포로돈까스앤스파게티' '차고집냉면-강북점' '다온초밥-본점' '육회한연어-수유점']\n",
            "야식 ['족발야시장-수유역점' '옆집떡볶이-미아점' '지코바치킨-서울수유1호점' '24시코리아홈푸드' '후라이드참잘하는집-쌍문점']\n",
            "분식 ['옆집떡볶이-미아점' '24시코리아홈푸드' '맘스떡볶이n컵밥-수유점' '차고집냉면-강북점' '걸작떡볶이치킨-쌍문창동점']\n"
          ]
        }
      ]
    },
    {
      "cell_type": "code",
      "source": [
        "# 각 store_name별로 속한 카테고리를 찾기 위해 빈 딕셔너리 생성\n",
        "store_categories = {}\n",
        "menu_categories = combined_df['menu_category'].unique()\n",
        "\n",
        "# 각 카테고리별로 store_name을 추출하여 store_categories 딕셔너리에 추가\n",
        "for category in menu_categories:\n",
        "    category_df = combined_df[combined_df['menu_category'] == category]\n",
        "    for store in category_df['store_name'].unique():\n",
        "        if store not in store_categories:\n",
        "            store_categories[store] = []\n",
        "        store_categories[store].append(category)\n",
        "\n",
        "# 겹치는 카테고리가 있는 store_name들을 찾기\n",
        "overlapping_stores = {store: categories for store, categories in store_categories.items() if len(categories) > 1}"
      ],
      "metadata": {
        "id": "s21frZlP0c2n"
      },
      "execution_count": null,
      "outputs": []
    },
    {
      "cell_type": "code",
      "source": [
        "overlapping_stores"
      ],
      "metadata": {
        "colab": {
          "base_uri": "https://localhost:8080/"
        },
        "id": "cShXzWom1QbD",
        "outputId": "7d099aee-b94a-4d92-ffab-a23fcea14456"
      },
      "execution_count": null,
      "outputs": [
        {
          "output_type": "execute_result",
          "data": {
            "text/plain": [
              "{'옆집떡볶이-미아점': ['치킨', '한식', '야식', '분식'],\n",
              " '지코바치킨-서울수유1호점': ['치킨', '야식'],\n",
              " '후라이드참잘하는집-쌍문점': ['치킨', '야식'],\n",
              " '삿포로돈까스앤스파게티': ['피자/양식', '한식', '일식/돈까스'],\n",
              " '라와마라탕-본점': ['중국집', '한식'],\n",
              " '24시코리아홈푸드': ['한식', '일식/돈까스', '야식', '분식'],\n",
              " '맘스떡볶이n컵밥-수유점': ['한식', '분식'],\n",
              " '차고집냉면-강북점': ['일식/돈까스', '분식']}"
            ]
          },
          "metadata": {},
          "execution_count": 93
        }
      ]
    },
    {
      "cell_type": "code",
      "source": [
        "# 겹치는 카테고리가 있는 store_name들 단일화\n",
        "store_specific_categories = {\n",
        "    '옆집떡볶이-미아점': '분식',\n",
        "    '지코바치킨-서울수유1호점': '치킨',\n",
        "    '후라이드참잘하는집-쌍문점': '치킨',\n",
        "    '삿포로돈까스앤스파게티': '일식/돈까스',\n",
        "    '라와마라탕-본점': '중국집',\n",
        "    '24시코리아홈푸드': '한식',\n",
        "    '맘스떡볶이n컵밥-수유점': '한식',\n",
        "    '차고집냉면-강북점': '분식'\n",
        "}"
      ],
      "metadata": {
        "id": "BWTsPSvj2Y3W"
      },
      "execution_count": null,
      "outputs": []
    },
    {
      "cell_type": "code",
      "source": [
        "# 다른 카테고리에 있는 store_name 제거\n",
        "for store, category in store_specific_categories.items():\n",
        "    # 현재 store와 category가 매칭되지 않는 행을 제거\n",
        "    combined_df = combined_df[~((combined_df['store_name'] == store) & (combined_df['menu_category'] != category))]"
      ],
      "metadata": {
        "id": "LabrU2JU22P5"
      },
      "execution_count": null,
      "outputs": []
    },
    {
      "cell_type": "code",
      "source": [
        "# 카테고리별 가게명 확인\n",
        "for category in combined_df['menu_category'].unique():\n",
        "  print(category, combined_df[combined_df['menu_category'] == category]['store_name'].unique())"
      ],
      "metadata": {
        "colab": {
          "base_uri": "https://localhost:8080/"
        },
        "id": "WyLz6qvF3CoT",
        "outputId": "9594d84a-2794-40df-df7c-707e141b801c"
      },
      "execution_count": null,
      "outputs": [
        {
          "output_type": "stream",
          "name": "stdout",
          "text": [
            "치킨 ['닭치GO' '지코바치킨-서울수유1호점' '후라이드참잘하는집-쌍문점' '처갓집양념치킨-삼양점']\n",
            "피자/양식 ['피자글릭-강북점' '치탈리아-쌍문점' '청년피자-도봉구점' '두마리찜닭두찜-강북미아점']\n",
            "중국집 ['라와마라탕-본점' '레드차이나' '차우린해물짬뽕' '챠이니-강북점' '최고성-쌍문점']\n",
            "한식 ['24시코리아홈푸드' '맘스떡볶이n컵밥-수유점']\n",
            "일식/돈까스 ['삿포로돈까스앤스파게티' '다온초밥-본점' '육회한연어-수유점']\n",
            "야식 ['족발야시장-수유역점']\n",
            "분식 ['옆집떡볶이-미아점' '차고집냉면-강북점' '걸작떡볶이치킨-쌍문창동점']\n"
          ]
        }
      ]
    },
    {
      "cell_type": "code",
      "source": [
        "# 각 store_name별로 속한 카테고리를 찾기 위해 빈 딕셔너리 생성\n",
        "store_categories = {}\n",
        "menu_categories = combined_df['menu_category'].unique()\n",
        "\n",
        "# 각 카테고리별로 store_name을 추출하여 store_categories 딕셔너리에 추가\n",
        "for category in menu_categories:\n",
        "    category_df = combined_df[combined_df['menu_category'] == category]\n",
        "    for store in category_df['store_name'].unique():\n",
        "        if store not in store_categories:\n",
        "            store_categories[store] = []\n",
        "        store_categories[store].append(category)\n",
        "\n",
        "# 겹치는 카테고리가 있는 store_name들을 찾기\n",
        "overlapping_stores = {store: categories for store, categories in store_categories.items() if len(categories) > 1}\n",
        "print(overlapping_stores)"
      ],
      "metadata": {
        "colab": {
          "base_uri": "https://localhost:8080/"
        },
        "id": "6LQ37Ea53MML",
        "outputId": "29cc5430-e48d-46bb-f57d-a03e77c049c1"
      },
      "execution_count": null,
      "outputs": [
        {
          "output_type": "stream",
          "name": "stdout",
          "text": [
            "{}\n"
          ]
        }
      ]
    },
    {
      "cell_type": "code",
      "source": [
        "# menu_category별로 그룹화\n",
        "grouped_dfs = {category: combined_df[combined_df['menu_category'] == category] for category in combined_df['menu_category'].unique()}\n",
        "\n",
        "# 결과를 확인하기 위해 각 카테고리별 데이터프레임의 크기를 출력\n",
        "for category, df in grouped_dfs.items():\n",
        "    print(f\"{category} : {df.shape}\")\n",
        "\n",
        "print(combined_df.shape)"
      ],
      "metadata": {
        "colab": {
          "base_uri": "https://localhost:8080/"
        },
        "id": "Gj11temx4ODm",
        "outputId": "19e97413-16d4-49dc-8e7a-76fc2f4105b2"
      },
      "execution_count": null,
      "outputs": [
        {
          "output_type": "stream",
          "name": "stdout",
          "text": [
            "치킨 : (1260, 7)\n",
            "피자/양식 : (1470, 7)\n",
            "중국집 : (2200, 7)\n",
            "한식 : (480, 7)\n",
            "일식/돈까스 : (990, 7)\n",
            "야식 : (440, 7)\n",
            "분식 : (1160, 7)\n",
            "(8000, 7)\n"
          ]
        }
      ]
    },
    {
      "cell_type": "code",
      "source": [
        "# csv로 저장\n",
        "combined_df.to_csv('요기요리뷰_상호단일카테고리_전처리.csv', index=False, encoding='utf-8-sig')"
      ],
      "metadata": {
        "id": "8NAEsNuH5xPe"
      },
      "execution_count": null,
      "outputs": []
    },
    {
      "cell_type": "code",
      "source": [
        "combined_df.reset_index(drop=True, inplace=True)"
      ],
      "metadata": {
        "id": "ZfpWKYHpDbLr"
      },
      "execution_count": null,
      "outputs": []
    },
    {
      "cell_type": "markdown",
      "source": [
        "가게마다 단일 카테고리로 전처리 완료"
      ],
      "metadata": {
        "id": "d0dK7hnS3iGT"
      }
    },
    {
      "cell_type": "markdown",
      "source": [
        "### 리뷰 텍스트 전처리"
      ],
      "metadata": {
        "id": "0ZT7akX_6q4Y"
      }
    },
    {
      "cell_type": "code",
      "source": [
        "import pandas as pd\n",
        "\n",
        "# CSV 파일을 읽어 DataFrame으로 변환\n",
        "combined_df = pd.read_csv('요기요리뷰_상호단일카테고리_전처리.csv')\n",
        "\n",
        "# DataFrame 출력\n",
        "combined_df"
      ],
      "metadata": {
        "colab": {
          "base_uri": "https://localhost:8080/",
          "height": 597
        },
        "id": "hCnHMzEzxABV",
        "outputId": "7ee7fa61-1784-4d49-e448-4295a12dfd48"
      },
      "execution_count": null,
      "outputs": [
        {
          "output_type": "execute_result",
          "data": {
            "text/plain": [
              "     menu_category     store_name  taste_point  quantity_point  \\\n",
              "0               치킨           닭치GO            5               5   \n",
              "1               치킨           닭치GO            5               5   \n",
              "2               치킨           닭치GO            5               5   \n",
              "3               치킨           닭치GO            5               5   \n",
              "4               치킨           닭치GO            5               5   \n",
              "...            ...            ...          ...             ...   \n",
              "7995            분식  걸작떡볶이치킨-쌍문창동점            5               5   \n",
              "7996            분식  걸작떡볶이치킨-쌍문창동점            5               5   \n",
              "7997            분식  걸작떡볶이치킨-쌍문창동점            5               5   \n",
              "7998            분식  걸작떡볶이치킨-쌍문창동점            4               3   \n",
              "7999            분식  걸작떡볶이치킨-쌍문창동점            5               5   \n",
              "\n",
              "      delivery_point                                        order_items  \\\n",
              "0                NaN  반반치킨/1(뼈／순살 선택(（순살）),반반치킨 선택(후라이드),반반치킨 선택(양념치킨))   \n",
              "1                NaN  나 혼 자 순 살 반 반/1(나혼자 반반세트 치킨 선택(스노윙),나혼자 반반세트 치...   \n",
              "2                NaN  반반치킨/1(뼈／순살 선택(（순살）),반반치킨 선택(후라이드),반반치킨 선택(양념치킨))   \n",
              "3                NaN  나 혼 자 순 살 반 반/1(나혼자 반반세트 치킨 선택(후라이드),나혼자 반반세트 ...   \n",
              "4                NaN  반반치킨/1(뼈／순살 선택(（순살）),반반치킨 선택(핫양념치킨),반반치킨 선택(허니...   \n",
              "...              ...                                                ...   \n",
              "7995             5.0  로제떡볶이R/1(떡볶이 맛 선택(1단계:달콤해서 아이들도 좋아해요),꿀조합 선택(선...   \n",
              "7996             5.0  가래떡떡볶이/1(떡볶이 맛 선택(4단계:불닭볶음면이 맵지 않다면 추천 드려요),떡볶...   \n",
              "7997             5.0  [추억의]짜장떡볶이R/1(맛선택（짜장떡볶이）(기본 （약간매운맛）),떡볶이 토핑 추가...   \n",
              "7998             5.0  치즈떡볶이R/1(어묵많이 선택(어묵많이 변경),떡볶이 맛 선택(3단계:신라면보다 약...   \n",
              "7999             5.0  [랭킹1위]원조떡닭세트/1(떡볶이 선택(국물떡볶이어묵많이R),떡볶이 맛 선택(3단계...   \n",
              "\n",
              "                              review_text               cleaned_review_text  \n",
              "0                          항상 맛있게 먹고있습니다~                     항상 맛있게 먹고있습니다  \n",
              "1                             늘 잘 먹고있습니다!                        늘 잘 먹고있습니다  \n",
              "2                    치킨생각나면 닭치Go가 생각나요 ㅎㅎ                     치킨생각나면 가 생각나요  \n",
              "3                            이집은 항상 맛집이에요                      이집은 항상 맛집이에요  \n",
              "4                             맛있게잘먹었습니다~~                         맛있게잘먹었습니다  \n",
              "...                                   ...                               ...  \n",
              "7995                        잘먹었습니다 감사합니다!                      잘먹었습니다 감사합니다  \n",
              "7996                 항상 맛있어서 잘 시켜먹고있아요~~~                 항상 맛있어서 잘 시켜먹고있아요  \n",
              "7997  우삼겹은 제가 별로도 세팅해서 먹었는데 떡볶이가 참 맛있습니다.      은 제가 별로도 세팅해서 먹었는데 가 참 맛있습니다  \n",
              "7998    맛있게잘먹었습ㄴ당, 배달엄청 빠르시네영, 깜놀! 번창하세영,      맛있게잘먹었습당 배달엄청 빠르시네영 깜놀 번창하세영  \n",
              "7999    오랜만에 맛있게 잘 먹었어요 근데 이제 쿠폰은 없어진건가요?  오랜만에 맛있게 잘 먹었어요 근데 이제 쿠폰은 없어진건가요  \n",
              "\n",
              "[8000 rows x 8 columns]"
            ],
            "text/html": [
              "\n",
              "  <div id=\"df-cea5f5ee-11d7-45c7-af8a-12f988eb472b\" class=\"colab-df-container\">\n",
              "    <div>\n",
              "<style scoped>\n",
              "    .dataframe tbody tr th:only-of-type {\n",
              "        vertical-align: middle;\n",
              "    }\n",
              "\n",
              "    .dataframe tbody tr th {\n",
              "        vertical-align: top;\n",
              "    }\n",
              "\n",
              "    .dataframe thead th {\n",
              "        text-align: right;\n",
              "    }\n",
              "</style>\n",
              "<table border=\"1\" class=\"dataframe\">\n",
              "  <thead>\n",
              "    <tr style=\"text-align: right;\">\n",
              "      <th></th>\n",
              "      <th>menu_category</th>\n",
              "      <th>store_name</th>\n",
              "      <th>taste_point</th>\n",
              "      <th>quantity_point</th>\n",
              "      <th>delivery_point</th>\n",
              "      <th>order_items</th>\n",
              "      <th>review_text</th>\n",
              "      <th>cleaned_review_text</th>\n",
              "    </tr>\n",
              "  </thead>\n",
              "  <tbody>\n",
              "    <tr>\n",
              "      <th>0</th>\n",
              "      <td>치킨</td>\n",
              "      <td>닭치GO</td>\n",
              "      <td>5</td>\n",
              "      <td>5</td>\n",
              "      <td>NaN</td>\n",
              "      <td>반반치킨/1(뼈／순살 선택(（순살）),반반치킨 선택(후라이드),반반치킨 선택(양념치킨))</td>\n",
              "      <td>항상 맛있게 먹고있습니다~</td>\n",
              "      <td>항상 맛있게 먹고있습니다</td>\n",
              "    </tr>\n",
              "    <tr>\n",
              "      <th>1</th>\n",
              "      <td>치킨</td>\n",
              "      <td>닭치GO</td>\n",
              "      <td>5</td>\n",
              "      <td>5</td>\n",
              "      <td>NaN</td>\n",
              "      <td>나 혼 자 순 살 반 반/1(나혼자 반반세트 치킨 선택(스노윙),나혼자 반반세트 치...</td>\n",
              "      <td>늘 잘 먹고있습니다!</td>\n",
              "      <td>늘 잘 먹고있습니다</td>\n",
              "    </tr>\n",
              "    <tr>\n",
              "      <th>2</th>\n",
              "      <td>치킨</td>\n",
              "      <td>닭치GO</td>\n",
              "      <td>5</td>\n",
              "      <td>5</td>\n",
              "      <td>NaN</td>\n",
              "      <td>반반치킨/1(뼈／순살 선택(（순살）),반반치킨 선택(후라이드),반반치킨 선택(양념치킨))</td>\n",
              "      <td>치킨생각나면 닭치Go가 생각나요 ㅎㅎ</td>\n",
              "      <td>치킨생각나면 가 생각나요</td>\n",
              "    </tr>\n",
              "    <tr>\n",
              "      <th>3</th>\n",
              "      <td>치킨</td>\n",
              "      <td>닭치GO</td>\n",
              "      <td>5</td>\n",
              "      <td>5</td>\n",
              "      <td>NaN</td>\n",
              "      <td>나 혼 자 순 살 반 반/1(나혼자 반반세트 치킨 선택(후라이드),나혼자 반반세트 ...</td>\n",
              "      <td>이집은 항상 맛집이에요</td>\n",
              "      <td>이집은 항상 맛집이에요</td>\n",
              "    </tr>\n",
              "    <tr>\n",
              "      <th>4</th>\n",
              "      <td>치킨</td>\n",
              "      <td>닭치GO</td>\n",
              "      <td>5</td>\n",
              "      <td>5</td>\n",
              "      <td>NaN</td>\n",
              "      <td>반반치킨/1(뼈／순살 선택(（순살）),반반치킨 선택(핫양념치킨),반반치킨 선택(허니...</td>\n",
              "      <td>맛있게잘먹었습니다~~</td>\n",
              "      <td>맛있게잘먹었습니다</td>\n",
              "    </tr>\n",
              "    <tr>\n",
              "      <th>...</th>\n",
              "      <td>...</td>\n",
              "      <td>...</td>\n",
              "      <td>...</td>\n",
              "      <td>...</td>\n",
              "      <td>...</td>\n",
              "      <td>...</td>\n",
              "      <td>...</td>\n",
              "      <td>...</td>\n",
              "    </tr>\n",
              "    <tr>\n",
              "      <th>7995</th>\n",
              "      <td>분식</td>\n",
              "      <td>걸작떡볶이치킨-쌍문창동점</td>\n",
              "      <td>5</td>\n",
              "      <td>5</td>\n",
              "      <td>5.0</td>\n",
              "      <td>로제떡볶이R/1(떡볶이 맛 선택(1단계:달콤해서 아이들도 좋아해요),꿀조합 선택(선...</td>\n",
              "      <td>잘먹었습니다 감사합니다!</td>\n",
              "      <td>잘먹었습니다 감사합니다</td>\n",
              "    </tr>\n",
              "    <tr>\n",
              "      <th>7996</th>\n",
              "      <td>분식</td>\n",
              "      <td>걸작떡볶이치킨-쌍문창동점</td>\n",
              "      <td>5</td>\n",
              "      <td>5</td>\n",
              "      <td>5.0</td>\n",
              "      <td>가래떡떡볶이/1(떡볶이 맛 선택(4단계:불닭볶음면이 맵지 않다면 추천 드려요),떡볶...</td>\n",
              "      <td>항상 맛있어서 잘 시켜먹고있아요~~~</td>\n",
              "      <td>항상 맛있어서 잘 시켜먹고있아요</td>\n",
              "    </tr>\n",
              "    <tr>\n",
              "      <th>7997</th>\n",
              "      <td>분식</td>\n",
              "      <td>걸작떡볶이치킨-쌍문창동점</td>\n",
              "      <td>5</td>\n",
              "      <td>5</td>\n",
              "      <td>5.0</td>\n",
              "      <td>[추억의]짜장떡볶이R/1(맛선택（짜장떡볶이）(기본 （약간매운맛）),떡볶이 토핑 추가...</td>\n",
              "      <td>우삼겹은 제가 별로도 세팅해서 먹었는데 떡볶이가 참 맛있습니다.</td>\n",
              "      <td>은 제가 별로도 세팅해서 먹었는데 가 참 맛있습니다</td>\n",
              "    </tr>\n",
              "    <tr>\n",
              "      <th>7998</th>\n",
              "      <td>분식</td>\n",
              "      <td>걸작떡볶이치킨-쌍문창동점</td>\n",
              "      <td>4</td>\n",
              "      <td>3</td>\n",
              "      <td>5.0</td>\n",
              "      <td>치즈떡볶이R/1(어묵많이 선택(어묵많이 변경),떡볶이 맛 선택(3단계:신라면보다 약...</td>\n",
              "      <td>맛있게잘먹었습ㄴ당, 배달엄청 빠르시네영, 깜놀! 번창하세영,</td>\n",
              "      <td>맛있게잘먹었습당 배달엄청 빠르시네영 깜놀 번창하세영</td>\n",
              "    </tr>\n",
              "    <tr>\n",
              "      <th>7999</th>\n",
              "      <td>분식</td>\n",
              "      <td>걸작떡볶이치킨-쌍문창동점</td>\n",
              "      <td>5</td>\n",
              "      <td>5</td>\n",
              "      <td>5.0</td>\n",
              "      <td>[랭킹1위]원조떡닭세트/1(떡볶이 선택(국물떡볶이어묵많이R),떡볶이 맛 선택(3단계...</td>\n",
              "      <td>오랜만에 맛있게 잘 먹었어요 근데 이제 쿠폰은 없어진건가요?</td>\n",
              "      <td>오랜만에 맛있게 잘 먹었어요 근데 이제 쿠폰은 없어진건가요</td>\n",
              "    </tr>\n",
              "  </tbody>\n",
              "</table>\n",
              "<p>8000 rows × 8 columns</p>\n",
              "</div>\n",
              "    <div class=\"colab-df-buttons\">\n",
              "\n",
              "  <div class=\"colab-df-container\">\n",
              "    <button class=\"colab-df-convert\" onclick=\"convertToInteractive('df-cea5f5ee-11d7-45c7-af8a-12f988eb472b')\"\n",
              "            title=\"Convert this dataframe to an interactive table.\"\n",
              "            style=\"display:none;\">\n",
              "\n",
              "  <svg xmlns=\"http://www.w3.org/2000/svg\" height=\"24px\" viewBox=\"0 -960 960 960\">\n",
              "    <path d=\"M120-120v-720h720v720H120Zm60-500h600v-160H180v160Zm220 220h160v-160H400v160Zm0 220h160v-160H400v160ZM180-400h160v-160H180v160Zm440 0h160v-160H620v160ZM180-180h160v-160H180v160Zm440 0h160v-160H620v160Z\"/>\n",
              "  </svg>\n",
              "    </button>\n",
              "\n",
              "  <style>\n",
              "    .colab-df-container {\n",
              "      display:flex;\n",
              "      gap: 12px;\n",
              "    }\n",
              "\n",
              "    .colab-df-convert {\n",
              "      background-color: #E8F0FE;\n",
              "      border: none;\n",
              "      border-radius: 50%;\n",
              "      cursor: pointer;\n",
              "      display: none;\n",
              "      fill: #1967D2;\n",
              "      height: 32px;\n",
              "      padding: 0 0 0 0;\n",
              "      width: 32px;\n",
              "    }\n",
              "\n",
              "    .colab-df-convert:hover {\n",
              "      background-color: #E2EBFA;\n",
              "      box-shadow: 0px 1px 2px rgba(60, 64, 67, 0.3), 0px 1px 3px 1px rgba(60, 64, 67, 0.15);\n",
              "      fill: #174EA6;\n",
              "    }\n",
              "\n",
              "    .colab-df-buttons div {\n",
              "      margin-bottom: 4px;\n",
              "    }\n",
              "\n",
              "    [theme=dark] .colab-df-convert {\n",
              "      background-color: #3B4455;\n",
              "      fill: #D2E3FC;\n",
              "    }\n",
              "\n",
              "    [theme=dark] .colab-df-convert:hover {\n",
              "      background-color: #434B5C;\n",
              "      box-shadow: 0px 1px 3px 1px rgba(0, 0, 0, 0.15);\n",
              "      filter: drop-shadow(0px 1px 2px rgba(0, 0, 0, 0.3));\n",
              "      fill: #FFFFFF;\n",
              "    }\n",
              "  </style>\n",
              "\n",
              "    <script>\n",
              "      const buttonEl =\n",
              "        document.querySelector('#df-cea5f5ee-11d7-45c7-af8a-12f988eb472b button.colab-df-convert');\n",
              "      buttonEl.style.display =\n",
              "        google.colab.kernel.accessAllowed ? 'block' : 'none';\n",
              "\n",
              "      async function convertToInteractive(key) {\n",
              "        const element = document.querySelector('#df-cea5f5ee-11d7-45c7-af8a-12f988eb472b');\n",
              "        const dataTable =\n",
              "          await google.colab.kernel.invokeFunction('convertToInteractive',\n",
              "                                                    [key], {});\n",
              "        if (!dataTable) return;\n",
              "\n",
              "        const docLinkHtml = 'Like what you see? Visit the ' +\n",
              "          '<a target=\"_blank\" href=https://colab.research.google.com/notebooks/data_table.ipynb>data table notebook</a>'\n",
              "          + ' to learn more about interactive tables.';\n",
              "        element.innerHTML = '';\n",
              "        dataTable['output_type'] = 'display_data';\n",
              "        await google.colab.output.renderOutput(dataTable, element);\n",
              "        const docLink = document.createElement('div');\n",
              "        docLink.innerHTML = docLinkHtml;\n",
              "        element.appendChild(docLink);\n",
              "      }\n",
              "    </script>\n",
              "  </div>\n",
              "\n",
              "\n",
              "<div id=\"df-e6d52a28-a763-45fe-acdb-15a5c9ef3258\">\n",
              "  <button class=\"colab-df-quickchart\" onclick=\"quickchart('df-e6d52a28-a763-45fe-acdb-15a5c9ef3258')\"\n",
              "            title=\"Suggest charts\"\n",
              "            style=\"display:none;\">\n",
              "\n",
              "<svg xmlns=\"http://www.w3.org/2000/svg\" height=\"24px\"viewBox=\"0 0 24 24\"\n",
              "     width=\"24px\">\n",
              "    <g>\n",
              "        <path d=\"M19 3H5c-1.1 0-2 .9-2 2v14c0 1.1.9 2 2 2h14c1.1 0 2-.9 2-2V5c0-1.1-.9-2-2-2zM9 17H7v-7h2v7zm4 0h-2V7h2v10zm4 0h-2v-4h2v4z\"/>\n",
              "    </g>\n",
              "</svg>\n",
              "  </button>\n",
              "\n",
              "<style>\n",
              "  .colab-df-quickchart {\n",
              "      --bg-color: #E8F0FE;\n",
              "      --fill-color: #1967D2;\n",
              "      --hover-bg-color: #E2EBFA;\n",
              "      --hover-fill-color: #174EA6;\n",
              "      --disabled-fill-color: #AAA;\n",
              "      --disabled-bg-color: #DDD;\n",
              "  }\n",
              "\n",
              "  [theme=dark] .colab-df-quickchart {\n",
              "      --bg-color: #3B4455;\n",
              "      --fill-color: #D2E3FC;\n",
              "      --hover-bg-color: #434B5C;\n",
              "      --hover-fill-color: #FFFFFF;\n",
              "      --disabled-bg-color: #3B4455;\n",
              "      --disabled-fill-color: #666;\n",
              "  }\n",
              "\n",
              "  .colab-df-quickchart {\n",
              "    background-color: var(--bg-color);\n",
              "    border: none;\n",
              "    border-radius: 50%;\n",
              "    cursor: pointer;\n",
              "    display: none;\n",
              "    fill: var(--fill-color);\n",
              "    height: 32px;\n",
              "    padding: 0;\n",
              "    width: 32px;\n",
              "  }\n",
              "\n",
              "  .colab-df-quickchart:hover {\n",
              "    background-color: var(--hover-bg-color);\n",
              "    box-shadow: 0 1px 2px rgba(60, 64, 67, 0.3), 0 1px 3px 1px rgba(60, 64, 67, 0.15);\n",
              "    fill: var(--button-hover-fill-color);\n",
              "  }\n",
              "\n",
              "  .colab-df-quickchart-complete:disabled,\n",
              "  .colab-df-quickchart-complete:disabled:hover {\n",
              "    background-color: var(--disabled-bg-color);\n",
              "    fill: var(--disabled-fill-color);\n",
              "    box-shadow: none;\n",
              "  }\n",
              "\n",
              "  .colab-df-spinner {\n",
              "    border: 2px solid var(--fill-color);\n",
              "    border-color: transparent;\n",
              "    border-bottom-color: var(--fill-color);\n",
              "    animation:\n",
              "      spin 1s steps(1) infinite;\n",
              "  }\n",
              "\n",
              "  @keyframes spin {\n",
              "    0% {\n",
              "      border-color: transparent;\n",
              "      border-bottom-color: var(--fill-color);\n",
              "      border-left-color: var(--fill-color);\n",
              "    }\n",
              "    20% {\n",
              "      border-color: transparent;\n",
              "      border-left-color: var(--fill-color);\n",
              "      border-top-color: var(--fill-color);\n",
              "    }\n",
              "    30% {\n",
              "      border-color: transparent;\n",
              "      border-left-color: var(--fill-color);\n",
              "      border-top-color: var(--fill-color);\n",
              "      border-right-color: var(--fill-color);\n",
              "    }\n",
              "    40% {\n",
              "      border-color: transparent;\n",
              "      border-right-color: var(--fill-color);\n",
              "      border-top-color: var(--fill-color);\n",
              "    }\n",
              "    60% {\n",
              "      border-color: transparent;\n",
              "      border-right-color: var(--fill-color);\n",
              "    }\n",
              "    80% {\n",
              "      border-color: transparent;\n",
              "      border-right-color: var(--fill-color);\n",
              "      border-bottom-color: var(--fill-color);\n",
              "    }\n",
              "    90% {\n",
              "      border-color: transparent;\n",
              "      border-bottom-color: var(--fill-color);\n",
              "    }\n",
              "  }\n",
              "</style>\n",
              "\n",
              "  <script>\n",
              "    async function quickchart(key) {\n",
              "      const quickchartButtonEl =\n",
              "        document.querySelector('#' + key + ' button');\n",
              "      quickchartButtonEl.disabled = true;  // To prevent multiple clicks.\n",
              "      quickchartButtonEl.classList.add('colab-df-spinner');\n",
              "      try {\n",
              "        const charts = await google.colab.kernel.invokeFunction(\n",
              "            'suggestCharts', [key], {});\n",
              "      } catch (error) {\n",
              "        console.error('Error during call to suggestCharts:', error);\n",
              "      }\n",
              "      quickchartButtonEl.classList.remove('colab-df-spinner');\n",
              "      quickchartButtonEl.classList.add('colab-df-quickchart-complete');\n",
              "    }\n",
              "    (() => {\n",
              "      let quickchartButtonEl =\n",
              "        document.querySelector('#df-e6d52a28-a763-45fe-acdb-15a5c9ef3258 button');\n",
              "      quickchartButtonEl.style.display =\n",
              "        google.colab.kernel.accessAllowed ? 'block' : 'none';\n",
              "    })();\n",
              "  </script>\n",
              "</div>\n",
              "\n",
              "  <div id=\"id_6df24145-90f0-4104-8ab8-a35821e8f5f7\">\n",
              "    <style>\n",
              "      .colab-df-generate {\n",
              "        background-color: #E8F0FE;\n",
              "        border: none;\n",
              "        border-radius: 50%;\n",
              "        cursor: pointer;\n",
              "        display: none;\n",
              "        fill: #1967D2;\n",
              "        height: 32px;\n",
              "        padding: 0 0 0 0;\n",
              "        width: 32px;\n",
              "      }\n",
              "\n",
              "      .colab-df-generate:hover {\n",
              "        background-color: #E2EBFA;\n",
              "        box-shadow: 0px 1px 2px rgba(60, 64, 67, 0.3), 0px 1px 3px 1px rgba(60, 64, 67, 0.15);\n",
              "        fill: #174EA6;\n",
              "      }\n",
              "\n",
              "      [theme=dark] .colab-df-generate {\n",
              "        background-color: #3B4455;\n",
              "        fill: #D2E3FC;\n",
              "      }\n",
              "\n",
              "      [theme=dark] .colab-df-generate:hover {\n",
              "        background-color: #434B5C;\n",
              "        box-shadow: 0px 1px 3px 1px rgba(0, 0, 0, 0.15);\n",
              "        filter: drop-shadow(0px 1px 2px rgba(0, 0, 0, 0.3));\n",
              "        fill: #FFFFFF;\n",
              "      }\n",
              "    </style>\n",
              "    <button class=\"colab-df-generate\" onclick=\"generateWithVariable('combined_df')\"\n",
              "            title=\"Generate code using this dataframe.\"\n",
              "            style=\"display:none;\">\n",
              "\n",
              "  <svg xmlns=\"http://www.w3.org/2000/svg\" height=\"24px\"viewBox=\"0 0 24 24\"\n",
              "       width=\"24px\">\n",
              "    <path d=\"M7,19H8.4L18.45,9,17,7.55,7,17.6ZM5,21V16.75L18.45,3.32a2,2,0,0,1,2.83,0l1.4,1.43a1.91,1.91,0,0,1,.58,1.4,1.91,1.91,0,0,1-.58,1.4L9.25,21ZM18.45,9,17,7.55Zm-12,3A5.31,5.31,0,0,0,4.9,8.1,5.31,5.31,0,0,0,1,6.5,5.31,5.31,0,0,0,4.9,4.9,5.31,5.31,0,0,0,6.5,1,5.31,5.31,0,0,0,8.1,4.9,5.31,5.31,0,0,0,12,6.5,5.46,5.46,0,0,0,6.5,12Z\"/>\n",
              "  </svg>\n",
              "    </button>\n",
              "    <script>\n",
              "      (() => {\n",
              "      const buttonEl =\n",
              "        document.querySelector('#id_6df24145-90f0-4104-8ab8-a35821e8f5f7 button.colab-df-generate');\n",
              "      buttonEl.style.display =\n",
              "        google.colab.kernel.accessAllowed ? 'block' : 'none';\n",
              "\n",
              "      buttonEl.onclick = () => {\n",
              "        google.colab.notebook.generateWithVariable('combined_df');\n",
              "      }\n",
              "      })();\n",
              "    </script>\n",
              "  </div>\n",
              "\n",
              "    </div>\n",
              "  </div>\n"
            ],
            "application/vnd.google.colaboratory.intrinsic+json": {
              "type": "dataframe",
              "variable_name": "combined_df",
              "summary": "{\n  \"name\": \"combined_df\",\n  \"rows\": 8000,\n  \"fields\": [\n    {\n      \"column\": \"menu_category\",\n      \"properties\": {\n        \"dtype\": \"category\",\n        \"num_unique_values\": 7,\n        \"samples\": [\n          \"\\uce58\\ud0a8\",\n          \"\\ud53c\\uc790/\\uc591\\uc2dd\",\n          \"\\uc57c\\uc2dd\"\n        ],\n        \"semantic_type\": \"\",\n        \"description\": \"\"\n      }\n    },\n    {\n      \"column\": \"store_name\",\n      \"properties\": {\n        \"dtype\": \"category\",\n        \"num_unique_values\": 22,\n        \"samples\": [\n          \"\\ub2ed\\uce58GO\",\n          \"24\\uc2dc\\ucf54\\ub9ac\\uc544\\ud648\\ud478\\ub4dc\",\n          \"\\ub77c\\uc640\\ub9c8\\ub77c\\ud0d5-\\ubcf8\\uc810\"\n        ],\n        \"semantic_type\": \"\",\n        \"description\": \"\"\n      }\n    },\n    {\n      \"column\": \"taste_point\",\n      \"properties\": {\n        \"dtype\": \"number\",\n        \"std\": 0,\n        \"min\": 1,\n        \"max\": 5,\n        \"num_unique_values\": 5,\n        \"samples\": [\n          4,\n          2,\n          1\n        ],\n        \"semantic_type\": \"\",\n        \"description\": \"\"\n      }\n    },\n    {\n      \"column\": \"quantity_point\",\n      \"properties\": {\n        \"dtype\": \"number\",\n        \"std\": 0,\n        \"min\": 1,\n        \"max\": 5,\n        \"num_unique_values\": 5,\n        \"samples\": [\n          4,\n          3,\n          1\n        ],\n        \"semantic_type\": \"\",\n        \"description\": \"\"\n      }\n    },\n    {\n      \"column\": \"delivery_point\",\n      \"properties\": {\n        \"dtype\": \"number\",\n        \"std\": 0.40966349486807274,\n        \"min\": 1.0,\n        \"max\": 5.0,\n        \"num_unique_values\": 5,\n        \"samples\": [\n          4.0,\n          2.0,\n          1.0\n        ],\n        \"semantic_type\": \"\",\n        \"description\": \"\"\n      }\n    },\n    {\n      \"column\": \"order_items\",\n      \"properties\": {\n        \"dtype\": \"string\",\n        \"num_unique_values\": 5335,\n        \"samples\": [\n          \"\\uce58\\ud0c8 \\uc138\\ud2b8/1(\\ub9ac\\ubdf0\\uc774\\ubca4\\ud2b8 \\uff08\\uc8fc\\ubb38\\ub2f9 1\\uac74\\uff09(2. \\uac10\\uc790\\ud280\\uae40 \\ud558\\ud504\\uc0ac\\uc774\\uc988),\\uc18c\\uc2a4 \\ucd94\\uac00 \\uc120\\ud0dd(\\ub9db\\uc788\\uac8c \\ub9e4\\uc6b4 \\uc18c\\uc2a4 \\ucd94\\uac00),\\uc74c\\ub8cc \\uc120\\ud0dd(\\ud3a9\\uc2dc\\ucf5c\\ub77c 500ml))\",\n          \"\\uacc4\\ub780\\ucc1c/1,2\\u4eba \\ub85c\\uc81c\\ub5a1\\ubcf6\\uc774\\uff0b\\ube44\\uc5d4\\ub098\\uff0b\\ubca0\\uc774\\ucee8\\uff0b\\uff0b\\uce58\\uc988\\uff0b\\ucfe8\\ud53c\\uc2a4450ml/1(\\uba54\\ub274 \\uc120\\ud0dd(\\ub5a1 \\ub9ce\\uc774),\\ub9db \\uc120\\ud0dd(\\uc21c\\ud55c\\ub9db),\\uba74\\uc0ac\\ub9ac \\ucd94\\uac00 \\uc120\\ud0dd(\\ucd94\\uac00 \\uc548\\ud568)),\\uc21c\\uc0b4\\uce58\\ud0a8\\uff08\\ub2ed\\ub2e4\\ub9ac\\uc0b4\\uff09/1\",\n          \"\\uc138\\ud2b8\\uff08\\ud0d5\\uc218\\uc721\\uff0b\\uc7c1\\ubc18\\uacf11\\uff09/1\"\n        ],\n        \"semantic_type\": \"\",\n        \"description\": \"\"\n      }\n    },\n    {\n      \"column\": \"review_text\",\n      \"properties\": {\n        \"dtype\": \"string\",\n        \"num_unique_values\": 6567,\n        \"samples\": [\n          \"\\u5f88\\u597d\",\n          \"\\uc5b8\\uc81c\\ub098 \\uc798\\uba39\\uc5c8\\uc2b5\\ub2c8\\ub2e4\",\n          \"\\uc798\\uba39\\uc5c8\\uc2b5\\ub2c8\\ub2e4\"\n        ],\n        \"semantic_type\": \"\",\n        \"description\": \"\"\n      }\n    },\n    {\n      \"column\": \"cleaned_review_text\",\n      \"properties\": {\n        \"dtype\": \"string\",\n        \"num_unique_values\": 5957,\n        \"samples\": [\n          \"\\ub294 \\uc5ed\\uc2dc\",\n          \"\\uc8fc\\ubb38 \\uc2e4\\uc218\\uac00 \\uc788\\uc5c8\\ub294\\ub370 \\uae30\\uc0ac\\ub2d8 \\ucd94\\uac00\\uae08 \\uc548\\ubc1b\\uace0 \\uad1c\\ucc2e\\ub2e4\\uace0 \\ud558\\uc154\\uc11c \\uac10\\uc0ac\\ud588\\uc5b4\\uc694 \\ub9db\\uc774\\uc57c \\ub298 \\uc874\\ub9db\\uc774\\uad6c\\uc694\",\n          \"\\ub118 \\ub9db\\uc788\\uac8c \\uba39\\uc5c8\\uc5b4\\uc694\"\n        ],\n        \"semantic_type\": \"\",\n        \"description\": \"\"\n      }\n    }\n  ]\n}"
            }
          },
          "metadata": {},
          "execution_count": 2
        }
      ]
    },
    {
      "cell_type": "markdown",
      "source": [
        "#### 1. 불필요한 텍스트 정제 (`이모지, 특수문자, 영어 표현, 숫자`)"
      ],
      "metadata": {
        "id": "Nnm-gi5W_6Wi"
      }
    },
    {
      "cell_type": "code",
      "source": [
        "combined_df['review_text']"
      ],
      "metadata": {
        "colab": {
          "base_uri": "https://localhost:8080/"
        },
        "id": "dKQ0vsOAFKOJ",
        "outputId": "fc795853-dcc7-46d8-f0c7-ea3ed65afcd9"
      },
      "execution_count": null,
      "outputs": [
        {
          "output_type": "execute_result",
          "data": {
            "text/plain": [
              "0                            항상 맛있게 먹고있습니다~\n",
              "1                               늘 잘 먹고있습니다!\n",
              "2                      치킨생각나면 닭치Go가 생각나요 ㅎㅎ\n",
              "3                              이집은 항상 맛집이에요\n",
              "4                               맛있게잘먹었습니다~~\n",
              "                       ...                 \n",
              "7995                          잘먹었습니다 감사합니다!\n",
              "7996                   항상 맛있어서 잘 시켜먹고있아요~~~\n",
              "7997    우삼겹은 제가 별로도 세팅해서 먹었는데 떡볶이가 참 맛있습니다.\n",
              "7998      맛있게잘먹었습ㄴ당, 배달엄청 빠르시네영, 깜놀! 번창하세영,\n",
              "7999      오랜만에 맛있게 잘 먹었어요 근데 이제 쿠폰은 없어진건가요?\n",
              "Name: review_text, Length: 8000, dtype: object"
            ]
          },
          "metadata": {},
          "execution_count": 3
        }
      ]
    },
    {
      "cell_type": "code",
      "source": [
        "import re"
      ],
      "metadata": {
        "id": "ffOlYjOH__Yj"
      },
      "execution_count": null,
      "outputs": []
    },
    {
      "cell_type": "code",
      "source": [
        "def remove_special_characters_and_emojis(text):\n",
        "  # 이모지 제거\n",
        "  emoji_pattern = re.compile(\n",
        "        \"[\"\n",
        "        u\"\\U0001F600-\\U0001F64F\"  # 이모티콘\n",
        "        u\"\\U0001F300-\\U0001F5FF\"  # 기호 & 픽토그램\n",
        "        u\"\\U0001F680-\\U0001F6FF\"  # 교통 & 지도 기호\n",
        "        u\"\\U0001F700-\\U0001F77F\"  # 추가 이모티콘\n",
        "        u\"\\U0001F780-\\U0001F7FF\"  # 추가 이모티콘\n",
        "        u\"\\U0001F800-\\U0001F8FF\"  # 추가 이모티콘\n",
        "        u\"\\U0001F900-\\U0001F9FF\"  # 추가 이모티콘\n",
        "        u\"\\U0001FA00-\\U0001FA6F\"  # 추가 이모티콘\n",
        "        u\"\\U0001FA70-\\U0001FAFF\"  # 추가 이모티콘\n",
        "        u\"\\U00002600-\\U000026FF\"  # 다양한 기호\n",
        "        u\"\\U00002700-\\U000027BF\"  # 다양한 기호\n",
        "        \"]+\", flags=re.UNICODE\n",
        "  )\n",
        "  text = emoji_pattern.sub(r'', text)\n",
        "\n",
        "  # 영어 표현, 숫자, 특수 문자 제거\n",
        "  text = re.sub(r'[^a-zA-Z가-힣0-9\\s]', '', text)\n",
        "  return text\n",
        "\n",
        "combined_df['cleaned_review_text'] = combined_df['review_text'].apply(remove_special_characters_and_emojis)\n",
        "print(combined_df[['review_text', 'cleaned_review_text']])"
      ],
      "metadata": {
        "colab": {
          "base_uri": "https://localhost:8080/"
        },
        "id": "Bd4M0rgB_u0V",
        "outputId": "c7b9cb59-55e4-4833-f196-ee9455c7b9c6"
      },
      "execution_count": null,
      "outputs": [
        {
          "output_type": "stream",
          "name": "stdout",
          "text": [
            "                              review_text                 cleaned_review_text\n",
            "0                          항상 맛있게 먹고있습니다~                       항상 맛있게 먹고있습니다\n",
            "1                             늘 잘 먹고있습니다!                          늘 잘 먹고있습니다\n",
            "2                    치킨생각나면 닭치Go가 생각나요 ㅎㅎ                  치킨생각나면 닭치Go가 생각나요 \n",
            "3                            이집은 항상 맛집이에요                        이집은 항상 맛집이에요\n",
            "4                             맛있게잘먹었습니다~~                           맛있게잘먹었습니다\n",
            "...                                   ...                                 ...\n",
            "7995                        잘먹었습니다 감사합니다!                        잘먹었습니다 감사합니다\n",
            "7996                 항상 맛있어서 잘 시켜먹고있아요~~~                   항상 맛있어서 잘 시켜먹고있아요\n",
            "7997  우삼겹은 제가 별로도 세팅해서 먹었는데 떡볶이가 참 맛있습니다.  우삼겹은 제가 별로도 세팅해서 먹었는데 떡볶이가 참 맛있습니다\n",
            "7998    맛있게잘먹었습ㄴ당, 배달엄청 빠르시네영, 깜놀! 번창하세영,        맛있게잘먹었습당 배달엄청 빠르시네영 깜놀 번창하세영\n",
            "7999    오랜만에 맛있게 잘 먹었어요 근데 이제 쿠폰은 없어진건가요?    오랜만에 맛있게 잘 먹었어요 근데 이제 쿠폰은 없어진건가요\n",
            "\n",
            "[8000 rows x 2 columns]\n"
          ]
        }
      ]
    },
    {
      "cell_type": "markdown",
      "source": [
        "#### 2. null값 제거"
      ],
      "metadata": {
        "id": "5xg0CAS_ydRc"
      }
    },
    {
      "cell_type": "code",
      "source": [
        "new_df = combined_df[['review_text', 'cleaned_review_text']]"
      ],
      "metadata": {
        "id": "ns_o1WhqwxBm"
      },
      "execution_count": null,
      "outputs": []
    },
    {
      "cell_type": "code",
      "source": [
        "# null 값 확인\n",
        "null_counts = new_df['cleaned_review_text'].isnull().sum()\n",
        "print(\"각 열별 null 값 개수:\")\n",
        "print(null_counts)\n",
        "\n",
        "# 전체 데이터프레임에서 null 값이 있는 행 확인\n",
        "null_data = new_df[new_df.isnull().any(axis=1)]\n",
        "print(\"\\nnull 값이 있는 행:\")\n",
        "print(null_data)"
      ],
      "metadata": {
        "colab": {
          "base_uri": "https://localhost:8080/"
        },
        "id": "5F457slDmfLZ",
        "outputId": "43da2acf-e2f3-469e-b49c-a8d011de4fe6"
      },
      "execution_count": null,
      "outputs": [
        {
          "output_type": "stream",
          "name": "stdout",
          "text": [
            "각 열별 null 값 개수:\n",
            "0\n",
            "\n",
            "null 값이 있는 행:\n",
            "Empty DataFrame\n",
            "Columns: [review_text, cleaned_review_text]\n",
            "Index: []\n"
          ]
        }
      ]
    },
    {
      "cell_type": "code",
      "source": [
        "# csv로 저장\n",
        "combined_df.to_csv('리뷰_전처리.csv', index=False, encoding='utf-8-sig')"
      ],
      "metadata": {
        "id": "acaFI9ICrQya"
      },
      "execution_count": null,
      "outputs": []
    },
    {
      "cell_type": "markdown",
      "source": [
        "## 3. 문장 생성 딥러닝 모델 학습   \n",
        "\n",
        "모델이 너무 커 colab에서 학습을 시작하면 세션이 나감. 학습은 로컬에서 진행"
      ],
      "metadata": {
        "id": "2GGBfuK8e7E3"
      }
    },
    {
      "cell_type": "markdown",
      "source": [
        "### 커스텀 데이터셋 정의"
      ],
      "metadata": {
        "id": "I_VDKSXE7C2h"
      }
    },
    {
      "cell_type": "code",
      "source": [
        "# custom_dataset.py\n",
        "import torch\n",
        "from torch.utils.data import Dataset"
      ],
      "metadata": {
        "id": "N7Bpd8qe7mDe"
      },
      "execution_count": null,
      "outputs": []
    },
    {
      "cell_type": "code",
      "source": [
        "class CustomDataset(Dataset):\n",
        "    def __init__(self, texts, tokenizer, max_length=50):\n",
        "        self.texts = texts\n",
        "        self.tokenizer = tokenizer\n",
        "        self.max_length = max_length\n",
        "\n",
        "    def __len__(self):\n",
        "        return len(self.texts)\n",
        "\n",
        "    def __getitem__(self, idx):\n",
        "        text = self.texts[idx]\n",
        "        inputs = self.tokenizer.encode_plus(\n",
        "            text,\n",
        "            None,\n",
        "            add_special_tokens=True,\n",
        "            max_length=self.max_length,\n",
        "            padding='max_length',\n",
        "            truncation=True,\n",
        "            return_tensors='pt'\n",
        "        )\n",
        "        input_ids = inputs['input_ids'].squeeze()\n",
        "        attention_mask = inputs['attention_mask'].squeeze()\n",
        "        return {\n",
        "            'input_ids': input_ids,\n",
        "            'attention_mask': attention_mask,\n",
        "            'labels': input_ids\n",
        "        }"
      ],
      "metadata": {
        "id": "WlfDPmkkJyEG"
      },
      "execution_count": null,
      "outputs": []
    },
    {
      "cell_type": "markdown",
      "source": [
        "### 모델 학습"
      ],
      "metadata": {
        "id": "hrMmWC9OJ3xW"
      }
    },
    {
      "cell_type": "code",
      "source": [
        "import os\n",
        "import torch\n",
        "from transformers import AutoTokenizer, AutoModelForCausalLM, AdamW, get_linear_schedule_with_warmup\n",
        "from torch.utils.data import DataLoader, Dataset\n",
        "import pandas as pd\n",
        "import re\n",
        "from custom_dataset import CustomDataset\n",
        "\n",
        "if __name__ == '__main__':\n",
        "    # CSV 파일을 읽어 DataFrame으로 변환\n",
        "    combined_df = pd.read_csv('리뷰_전처리.csv')\n",
        "    print(combined_df[['review_text', 'cleaned_review_text']])\n",
        "\n",
        "    # Set CUDA_LAUNCH_BLOCKING for debugging\n",
        "    os.environ['CUDA_LAUNCH_BLOCKING'] = \"1\"\n",
        "\n",
        "    # Load tokenizer and model\n",
        "    tokenizer = AutoTokenizer.from_pretrained(\"skt/kogpt2-base-v2\")\n",
        "    model = AutoModelForCausalLM.from_pretrained(\"skt/kogpt2-base-v2\")\n",
        "\n",
        "    # Add pad token if necessary\n",
        "    if tokenizer.pad_token is None:\n",
        "        tokenizer.add_special_tokens({'pad_token': tokenizer.eos_token})  # Use EOS token as padding token if not set\n",
        "        model.resize_token_embeddings(len(tokenizer))\n",
        "\n",
        "    # Training settings\n",
        "    train_texts = combined_df['cleaned_review_text'].tolist()\n",
        "    train_dataset = CustomDataset(train_texts, tokenizer)\n",
        "    train_dataloader = DataLoader(train_dataset, batch_size=64, shuffle=True, num_workers=4)  # Set num_workers to 0\n",
        "\n",
        "    optimizer = AdamW(model.parameters(), lr=1e-5)\n",
        "    epochs = 10\n",
        "    total_steps = len(train_dataloader) * epochs\n",
        "    scheduler = get_linear_schedule_with_warmup(optimizer, num_warmup_steps=0, num_training_steps=total_steps)\n",
        "\n",
        "    # Early stopping settings\n",
        "    early_stopping_patience = 3\n",
        "    best_loss = float('inf')\n",
        "    patience_counter = 0\n",
        "\n",
        "    # Training loop\n",
        "    device = torch.device(\"cuda\" if torch.cuda.is_available() else \"cpu\")\n",
        "    model.to(device)\n",
        "    model.train()\n",
        "\n",
        "    for epoch in range(epochs):\n",
        "        epoch_loss = 0\n",
        "        batch_count = 0\n",
        "        for batch in train_dataloader:\n",
        "            optimizer.zero_grad()\n",
        "\n",
        "            input_ids = batch['input_ids'].to(device)\n",
        "            attention_mask = batch['attention_mask'].to(device)\n",
        "            labels = batch['labels'].to(device).long()  # Ensure labels are of type torch.long\n",
        "\n",
        "            # Debugging: Print input IDs and their range\n",
        "            print(f\"Input IDs: {input_ids}\")\n",
        "            print(f\"Max Input ID: {input_ids.max().item()}, Vocab Size: {tokenizer.vocab_size}\")\n",
        "            batch_count += 64\n",
        "            print(\"batch count: \", batch_count, \"epoch: \", epoch)\n",
        "\n",
        "            outputs = model(input_ids, attention_mask=attention_mask, labels=labels)\n",
        "            loss = outputs.loss\n",
        "            loss.backward()\n",
        "            optimizer.step()\n",
        "            scheduler.step()\n",
        "\n",
        "            epoch_loss += loss.item()\n",
        "\n",
        "        avg_epoch_loss = epoch_loss / len(train_dataloader)\n",
        "        print(f\"Epoch {epoch + 1} Loss: {avg_epoch_loss}\")\n",
        "\n",
        "        # Early stopping check\n",
        "        if avg_epoch_loss < best_loss:\n",
        "            best_loss = avg_epoch_loss\n",
        "            patience_counter = 0\n",
        "            # 모델 저장\n",
        "            model.save_pretrained('best_model')\n",
        "            tokenizer.save_pretrained('best_tokenizer')\n",
        "        else:\n",
        "            patience_counter += 1\n",
        "            if patience_counter >= early_stopping_patience:\n",
        "                print(f\"Early stopping at epoch {epoch + 1}\")\n",
        "                break\n",
        "\n",
        "    # Save model and tokenizer\n",
        "    model.save_pretrained('path_to_save_model')\n",
        "    tokenizer.save_pretrained('path_to_save_tokenizer')\n"
      ],
      "metadata": {
        "colab": {
          "base_uri": "https://localhost:8080/"
        },
        "id": "lQ7NNMfqrzY6",
        "outputId": "99fc11b9-6015-45f3-a98e-9ccd6f8cb41d"
      },
      "execution_count": null,
      "outputs": [
        {
          "output_type": "stream",
          "name": "stderr",
          "text": [
            "/usr/local/lib/python3.10/dist-packages/huggingface_hub/file_download.py:1132: FutureWarning: `resume_download` is deprecated and will be removed in version 1.0.0. Downloads always resume when possible. If you want to force a new download, use `force_download=True`.\n",
            "  warnings.warn(\n",
            "/usr/local/lib/python3.10/dist-packages/transformers/optimization.py:588: FutureWarning: This implementation of AdamW is deprecated and will be removed in a future version. Use the PyTorch implementation torch.optim.AdamW instead, or set `no_deprecation_warning=True` to disable this warning\n",
            "  warnings.warn(\n"
          ]
        },
        {
          "output_type": "stream",
          "name": "stdout",
          "text": [
            "Input IDs: tensor([[ 9673,  7235, 10307,  ..., 51200, 51200, 51200],\n",
            "        [28005,  7235, 29578,  ..., 51200, 51200, 51200],\n",
            "        [11355, 18479, 10623,  ..., 51200, 51200, 51200],\n",
            "        ...,\n",
            "        [11355, 49067,  8084,  ..., 51200, 51200, 51200],\n",
            "        [28005,  7235, 29578,  ..., 51200, 51200, 51200],\n",
            "        [10997,  9168,  8236,  ..., 51200, 51200, 51200]])\n",
            "Max Input ID: 51200, Vocab Size: 51200\n"
          ]
        }
      ]
    },
    {
      "cell_type": "markdown",
      "source": [
        "## 4. 학습한 모델 로드"
      ],
      "metadata": {
        "id": "055TkQTJdo1k"
      }
    },
    {
      "cell_type": "markdown",
      "source": [
        "### 구글 드라이브 연동하기\n",
        "모델 체크포인트 등을 저장해 둘 구글 드라이브를 연결합니다. 자신의 구글 계정에 적용됩니다."
      ],
      "metadata": {
        "id": "BPIomwNYgWaK"
      }
    },
    {
      "cell_type": "code",
      "source": [
        "from google.colab import drive\n",
        "drive.mount('/content/drive', force_remount=True)"
      ],
      "metadata": {
        "colab": {
          "base_uri": "https://localhost:8080/"
        },
        "id": "METSjv2CgTie",
        "outputId": "6e240487-e236-4477-c0c9-0fa76c7be211"
      },
      "execution_count": null,
      "outputs": [
        {
          "output_type": "stream",
          "name": "stdout",
          "text": [
            "Mounted at /content/drive\n"
          ]
        }
      ]
    },
    {
      "cell_type": "code",
      "source": [
        "# 모델 및 토크나이저 경로\n",
        "tokenizer_path = \"/content/drive/MyDrive/Classroom/빅데이터시스템-01/과제/path_to_save_tokenizer\"\n",
        "model_path = \"/content/drive/MyDrive/Classroom/빅데이터시스템-01/과제/path_to_save_model\""
      ],
      "metadata": {
        "id": "YtEG-EShaLq-"
      },
      "execution_count": null,
      "outputs": []
    },
    {
      "cell_type": "code",
      "source": [
        "import torch\n",
        "from transformers import AutoTokenizer, AutoModelForCausalLM\n",
        "\n",
        "# Load tokenizer and model\n",
        "tokenizer = AutoTokenizer.from_pretrained(tokenizer_path)\n",
        "model = AutoModelForCausalLM.from_pretrained(model_path)"
      ],
      "metadata": {
        "id": "d4piFG3AbsTb"
      },
      "execution_count": null,
      "outputs": []
    },
    {
      "cell_type": "markdown",
      "source": [
        "### 문장 생성"
      ],
      "metadata": {
        "id": "fPOHXVguai5o"
      }
    },
    {
      "cell_type": "code",
      "source": [
        "def generate_text(prompt, max_length=50):\n",
        "    # Encode the prompt\n",
        "    input_ids = tokenizer.encode(prompt, return_tensors='pt').to(device)\n",
        "\n",
        "    # Generate text\n",
        "    with torch.no_grad():\n",
        "        output = model.generate(input_ids, max_length=max_length, num_return_sequences=1, no_repeat_ngram_size=2, top_k=50, top_p=0.95, temperature=0.7)\n",
        "\n",
        "    # Decode the generated text\n",
        "    generated_text = tokenizer.decode(output[0], skip_special_tokens=True)\n",
        "\n",
        "    return generated_text"
      ],
      "metadata": {
        "id": "y8ckuCnObyd4"
      },
      "execution_count": null,
      "outputs": []
    },
    {
      "cell_type": "code",
      "source": [
        "# Example usage\n",
        "prompt = \"오늘은\"\n",
        "generated_text = generate_text(prompt, max_length=50)\n",
        "print(generated_text)"
      ],
      "metadata": {
        "colab": {
          "base_uri": "https://localhost:8080/"
        },
        "id": "F2fz02seauCt",
        "outputId": "60b63fe2-073b-4701-b868-1d7b24914fd0"
      },
      "execution_count": null,
      "outputs": [
        {
          "output_type": "stream",
          "name": "stdout",
          "text": [
            "오늘은 좀 덜 매웠어요 그래도 맛있게 잘 먹었습니다 오늘도 감사합니다  맛있습니당  맵찔이라서 퍽퍽한데 쫄깃해서 좋았어용\n"
          ]
        }
      ]
    },
    {
      "cell_type": "code",
      "source": [
        "# Example usage\n",
        "prompt = \"배달\"\n",
        "generated_text = generate_text(prompt, max_length=50)\n",
        "print(generated_text)"
      ],
      "metadata": {
        "colab": {
          "base_uri": "https://localhost:8080/"
        },
        "id": "N_PCXRXRd0bG",
        "outputId": "18603df9-facc-4a1c-e4d8-1f7f4a52e7b8"
      },
      "execution_count": null,
      "outputs": [
        {
          "output_type": "stream",
          "name": "stdout",
          "text": [
            "배달도 빠르고 맛있어요  서비스도 감사합니다 서비스로 주신 막국수도 맛있게 잘 먹었습니다 짬뽕국물 감사해요 짱 감사드려요 감사드립니당\n"
          ]
        }
      ]
    },
    {
      "cell_type": "code",
      "source": [
        "# Example usage\n",
        "prompt = \"하..\"\n",
        "generated_text = generate_text(prompt, max_length=50)\n",
        "print(generated_text)"
      ],
      "metadata": {
        "colab": {
          "base_uri": "https://localhost:8080/"
        },
        "id": "yUhHaHMreCb5",
        "outputId": "4805b1b1-ec4c-4cee-d603-70d270f5fe81"
      },
      "execution_count": null,
      "outputs": [
        {
          "output_type": "stream",
          "name": "stdout",
          "text": [
            "하.. 맛있어요  서비스 감사합니다 서비스로 주신 떡사리도 감사히 잘 먹었습니다   번창하세요  감사해요 번창하시고 번창 하세여 감사드려요\n"
          ]
        }
      ]
    }
  ]
}